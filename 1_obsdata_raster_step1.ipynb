{
 "cells": [
  {
   "cell_type": "markdown",
   "id": "f47c8545-dd55-4e57-9bc0-f3b46cf5d3a3",
   "metadata": {},
   "source": [
    "1. Read block raster"
   ]
  },
  {
   "cell_type": "code",
   "execution_count": 2,
   "id": "7a44e030-5d90-4e45-9d35-a6ace19de356",
   "metadata": {},
   "outputs": [],
   "source": [
    "from osgeo import gdal\n",
    "import numpy as np\n",
    "\n",
    "data_path = '0_data/'\n",
    "\n",
    "block_raster = gdal.Open(data_path + 'block_raster.tif')\n",
    "block_raster_band = block_raster.GetRasterBand(1)\n",
    "block_raster_data = block_raster.ReadAsArray()\n",
    "row_length = block_raster.RasterYSize\n",
    "col_length = block_raster.RasterXSize\n",
    "tif_geotrans = block_raster.GetGeoTransform()\n",
    "tif_proj = block_raster.GetProjection()"
   ]
  },
  {
   "cell_type": "code",
   "execution_count": 3,
   "id": "192b4fbe-b187-4913-af7a-42a7e048d1e6",
   "metadata": {},
   "outputs": [],
   "source": [
    "block_max = block_raster_data.max()"
   ]
  },
  {
   "cell_type": "code",
   "execution_count": 4,
   "id": "22b426bc-982b-4574-a20b-aceae0f35dc0",
   "metadata": {},
   "outputs": [],
   "source": [
    "block_list = []\n",
    "for block_i in range(block_max+1):\n",
    "    block_list.append([])\n",
    "\n",
    "for row in range(row_length):\n",
    "    for col in range(col_length):\n",
    "        block_id = block_raster_data[row, col]\n",
    "        if block_id > 0: # This block existed, whose value is not 0.\n",
    "            block_list[int(block_id)].append(row)\n",
    "            block_list[int(block_id)].append(col)"
   ]
  },
  {
   "cell_type": "markdown",
   "id": "5b6826b2-1413-42ff-b8d7-18d9e7b10e5e",
   "metadata": {},
   "source": [
    "2. Read observations csv"
   ]
  },
  {
   "cell_type": "code",
   "execution_count": 5,
   "id": "546c2143-bcd4-4788-8888-3707225f5d9d",
   "metadata": {},
   "outputs": [],
   "source": [
    "import pandas as pd\n",
    "\n",
    "obs_data = pd.read_csv(data_path + '2017allobs.csv')"
   ]
  },
  {
   "cell_type": "code",
   "execution_count": 6,
   "id": "211069d8-ae36-474a-aa8b-f3f550c34ae9",
   "metadata": {},
   "outputs": [],
   "source": [
    "obs_raster_data = np.zeros((row_length, col_length))\n",
    "\n",
    "for obs_i in range(len(obs_data)):\n",
    "    block_id = int(obs_data.iat[obs_i,1])\n",
    "    observers = int(obs_data.iat[obs_i,7])\n",
    "    block_coord = block_list[block_id]\n",
    "    if len(block_coord) > 0:\n",
    "        obs_raster_data[block_coord[0], block_coord[1]] = observers"
   ]
  },
  {
   "cell_type": "code",
   "execution_count": 7,
   "id": "b555f31a-8756-4829-a329-722b95bb91eb",
   "metadata": {},
   "outputs": [],
   "source": [
    "# Save to tif\n",
    "driver = gdal.GetDriverByName('GTiff')\n",
    "obs_blocks_dataset = driver.Create(data_path + 'obs_blocks.tif', col_length, row_length, 1, gdal.GDT_Int16)\n",
    "obs_blocks_dataset.SetGeoTransform(tif_geotrans)\n",
    "obs_blocks_dataset.SetProjection(tif_proj)\n",
    "obs_blocks_dataset.GetRasterBand(1).WriteArray(obs_raster_data)\n",
    "# Save finish.\n",
    "del obs_blocks_dataset"
   ]
  },
  {
   "cell_type": "code",
   "execution_count": 1,
   "id": "0e4084c8-214f-4758-997b-2382b9dd0f04",
   "metadata": {},
   "outputs": [],
   "source": []
  },
  {
   "cell_type": "code",
   "execution_count": null,
   "id": "0b20e0a8-4863-44de-ba0f-eb6f079b015c",
   "metadata": {},
   "outputs": [],
   "source": []
  }
 ],
 "metadata": {
  "kernelspec": {
   "display_name": "Python",
   "language": "python",
   "name": "python3"
  },
  "language_info": {
   "codemirror_mode": {
    "name": "ipython",
    "version": 3
   },
   "file_extension": ".py",
   "mimetype": "text/x-python",
   "name": "python",
   "nbconvert_exporter": "python",
   "pygments_lexer": "ipython3",
   "version": "3.8.10"
  }
 },
 "nbformat": 4,
 "nbformat_minor": 5
}
