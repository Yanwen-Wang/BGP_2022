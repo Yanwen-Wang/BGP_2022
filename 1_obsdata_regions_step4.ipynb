{
 "cells": [
  {
   "cell_type": "code",
   "execution_count": 1,
   "id": "93d02c5a-a8b0-4052-ae3e-d494d7ca61f7",
   "metadata": {},
   "outputs": [],
   "source": [
    "from osgeo import gdal\n",
    "import numpy as np\n",
    "from shapely.geometry import Point, Polygon\n",
    "from scipy.spatial import ConvexHull\n",
    "\n",
    "data_path = '0_data/'\n",
    "\n",
    "obs_clusters = gdal.Open(data_path + 'obs_clusters.tif')\n",
    "obs_clusters_band = obs_clusters.GetRasterBand(1)\n",
    "obs_clusters_data = obs_clusters.ReadAsArray()\n",
    "row_length = obs_clusters.RasterYSize\n",
    "col_length = obs_clusters.RasterXSize\n",
    "tif_geotrans = obs_clusters.GetGeoTransform()\n",
    "tif_proj = obs_clusters.GetProjection()\n",
    "\n",
    "cluster_max = int(obs_clusters_data.max())\n",
    "clusters_rowcols = []\n",
    "clusters_vertices = []\n",
    "clusters_vertices_poly = []\n",
    "for i in range(cluster_max+1):\n",
    "    clusters_rowcols.append([])\n",
    "    clusters_vertices.append([])\n",
    "    clusters_vertices_poly.append([])"
   ]
  },
  {
   "cell_type": "code",
   "execution_count": 2,
   "id": "a028a609-8a44-4813-bb95-7cd6b4c539fa",
   "metadata": {},
   "outputs": [],
   "source": [
    "for row in range(row_length):\n",
    "    for col in range(col_length):\n",
    "        cluster_id = obs_clusters_data[row, col]\n",
    "        if cluster_id > 0:\n",
    "            clusters_rowcols[cluster_id].append([row, col])\n",
    "\n",
    "\n",
    "for cluster_i in range(len(clusters_rowcols)):\n",
    "    if cluster_i > 0:\n",
    "        cluster_i_points = np.array(clusters_rowcols[cluster_i])\n",
    "        cluster_i_hull = ConvexHull(cluster_i_points)\n",
    "        for vertex in cluster_i_hull.vertices:\n",
    "            vertex_row = cluster_i_points[vertex, 0]\n",
    "            vertex_col = cluster_i_points[vertex, 1]\n",
    "            clusters_vertices[cluster_i].append([vertex_row, vertex_col]) \n",
    "            clusters_vertices_poly[cluster_i].append((vertex_row, vertex_col))  # tuple for following polygon create"
   ]
  },
  {
   "cell_type": "code",
   "execution_count": 3,
   "id": "57324980-c57a-4e2b-b1a7-2dcdd8dd08bf",
   "metadata": {},
   "outputs": [],
   "source": [
    "obs_regions = np.zeros((row_length, col_length))\n",
    "for cluster_i in range(len(clusters_vertices)):\n",
    "    if cluster_i > 0:\n",
    "        cluster_i_vertices = np.array(clusters_vertices[cluster_i])\n",
    "        cluster_i_poly = Polygon(clusters_vertices_poly[cluster_i])\n",
    "        left = cluster_i_vertices[:,1].min()\n",
    "        right = cluster_i_vertices[:,1].max()\n",
    "        top = cluster_i_vertices[:,0].min()\n",
    "        bottom = cluster_i_vertices[:,0].max()\n",
    "        for row in range(top, bottom + 1):\n",
    "            for col in range(left, right + 1):\n",
    "                temp_grid = Point(row, col)\n",
    "                if temp_grid.within(cluster_i_poly) == True:\n",
    "                    obs_regions[row, col] = cluster_i"
   ]
  },
  {
   "cell_type": "code",
   "execution_count": 4,
   "id": "9f74e096-6eef-46b2-a9f1-6e0afe9c7de1",
   "metadata": {},
   "outputs": [],
   "source": [
    "# Save to tif\n",
    "driver = gdal.GetDriverByName('GTiff')\n",
    "obs_regions_dataset = driver.Create(data_path + 'obs_regions.tif', col_length, row_length, 1, gdal.GDT_Int32)\n",
    "obs_regions_dataset.SetGeoTransform(tif_geotrans)\n",
    "obs_regions_dataset.SetProjection(tif_proj)\n",
    "obs_regions_dataset.GetRasterBand(1).WriteArray(obs_regions)\n",
    "# Save finish.\n",
    "del obs_regions_dataset"
   ]
  },
  {
   "cell_type": "code",
   "execution_count": null,
   "id": "2212cea1-7d58-4d70-b438-1c8c52371c39",
   "metadata": {},
   "outputs": [],
   "source": []
  }
 ],
 "metadata": {
  "kernelspec": {
   "display_name": "Python",
   "language": "python",
   "name": "python3"
  },
  "language_info": {
   "codemirror_mode": {
    "name": "ipython",
    "version": 3
   },
   "file_extension": ".py",
   "mimetype": "text/x-python",
   "name": "python",
   "nbconvert_exporter": "python",
   "pygments_lexer": "ipython3",
   "version": "3.8.10"
  }
 },
 "nbformat": 4,
 "nbformat_minor": 5
}
