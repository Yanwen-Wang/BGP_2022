{
 "cells": [
  {
   "cell_type": "markdown",
   "id": "c5768855-4e42-4e32-812e-8be88eda3914",
   "metadata": {},
   "source": [
    "1. Find which block is in developed region."
   ]
  },
  {
   "cell_type": "code",
   "execution_count": 1,
   "id": "550db333-518b-4237-a254-039276680646",
   "metadata": {},
   "outputs": [],
   "source": [
    "from osgeo import gdal\n",
    "import numpy as np\n",
    "\n",
    "data_path = '0_data/'\n",
    "\n",
    "\n",
    "blocks = gdal.Open(data_path + 'block_raster.tif')\n",
    "blocks_band = blocks.GetRasterBand(1)\n",
    "blocks_data = blocks.ReadAsArray()\n",
    "row_length = blocks.RasterYSize\n",
    "col_length = blocks.RasterXSize\n",
    "tif_geotrans = blocks.GetGeoTransform()\n",
    "tif_proj = blocks.GetProjection()\n",
    "\n",
    "\n",
    "regions = gdal.Open(data_path + 'obs_regions.tif')\n",
    "regions_band = regions.GetRasterBand(1)\n",
    "regions_data = regions.ReadAsArray()\n",
    "\n",
    "\n",
    "block_region = []\n",
    "block_max_id = blocks_data.max()\n",
    "for i in range( block_max_id + 1 ):\n",
    "    block_region.append([])\n",
    "\n",
    "for row in range(row_length):\n",
    "    for col in range(col_length):\n",
    "        block_id = blocks_data[row,col]\n",
    "        if block_id > 0:\n",
    "            region = regions_data[row, col]\n",
    "            block_region[block_id].append(region)"
   ]
  },
  {
   "cell_type": "markdown",
   "id": "18095b74-4aad-4ba9-8617-9825e63f0516",
   "metadata": {},
   "source": [
    "2. Find which record is not in developed block."
   ]
  },
  {
   "cell_type": "code",
   "execution_count": 3,
   "id": "65796776-2198-4d7c-b4f7-f663cb83e5d1",
   "metadata": {},
   "outputs": [],
   "source": [
    "import csv\n",
    "\n",
    "obsall_csv = csv.reader(open(data_path + \"2017stall.csv\"))\n",
    "obsall_data = np.array(list(obsall_csv))\n",
    "\n",
    "developing_index = []\n",
    "for record_i in range(1, len(obsall_data)):\n",
    "    block_id = int(obsall_data[record_i, 1])\n",
    "    if len(block_region[block_id]) > 0:\n",
    "        block_isregion = int(block_region[block_id][0])\n",
    "        if block_isregion == 0:\n",
    "            developing_index.append(record_i)"
   ]
  },
  {
   "cell_type": "code",
   "execution_count": 5,
   "id": "c650dd7a-7608-4122-a1ec-360ccb976fb0",
   "metadata": {},
   "outputs": [],
   "source": [
    "developing_data_filename = data_path + \"developing_2017stall.csv\"\n",
    "with open (developing_data_filename, \"w\", newline = '') as developing_data:\n",
    "    developing_data_csv = csv.writer(developing_data)\n",
    "    developing_data_csv.writerow(obsall_data[0,:])\n",
    "    for i in developing_index:\n",
    "        developing_data_csv.writerow(obsall_data[i,:])"
   ]
  },
  {
   "cell_type": "code",
   "execution_count": null,
   "id": "6a4a4292-2e35-4013-96e8-cc70d7e31695",
   "metadata": {},
   "outputs": [],
   "source": []
  }
 ],
 "metadata": {
  "kernelspec": {
   "display_name": "Python",
   "language": "python",
   "name": "python3"
  },
  "language_info": {
   "codemirror_mode": {
    "name": "ipython",
    "version": 3
   },
   "file_extension": ".py",
   "mimetype": "text/x-python",
   "name": "python",
   "nbconvert_exporter": "python",
   "pygments_lexer": "ipython3",
   "version": "3.8.10"
  }
 },
 "nbformat": 4,
 "nbformat_minor": 5
}
