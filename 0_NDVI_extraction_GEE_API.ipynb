{
 "cells": [
  {
   "cell_type": "markdown",
   "id": "6fdfc8f1-5f67-485d-9fc9-22c9cc6be6d0",
   "metadata": {},
   "source": [
    "# Extracting NDVI using Google Earth Engine\n",
    "\n",
    "\n"
   ]
  },
  {
   "cell_type": "markdown",
   "id": "bf743d3d-bfc7-4e26-b11c-3ad61a2157ff",
   "metadata": {
    "tags": []
   },
   "source": [
    "## Initializing GEE API "
   ]
  },
  {
   "cell_type": "code",
   "execution_count": 1,
   "id": "b6766408-8e90-4a66-b4ec-6abba1cebd6b",
   "metadata": {},
   "outputs": [
    {
     "data": {
      "text/html": [
       "<p>To authorize access needed by Earth Engine, open the following\n",
       "        URL in a web browser and follow the instructions:</p>\n",
       "        <p><a href=https://code.earthengine.google.com/client-auth?scopes=https%3A//www.googleapis.com/auth/earthengine%20https%3A//www.googleapis.com/auth/devstorage.full_control&request_id=JW4EhE7cvrJ4tW9SsoJ-ULMNYMPsCNaIA75dI-vmKkE&tc=16P0Pc49MB8231n5-bKDFjUJIyTlZ_S2krbKtwfLWBM&cc=f42V2yZlPEV0d1OKc2hsq2uDR6bhsMKDzIq9xVG38Yw>https://code.earthengine.google.com/client-auth?scopes=https%3A//www.googleapis.com/auth/earthengine%20https%3A//www.googleapis.com/auth/devstorage.full_control&request_id=JW4EhE7cvrJ4tW9SsoJ-ULMNYMPsCNaIA75dI-vmKkE&tc=16P0Pc49MB8231n5-bKDFjUJIyTlZ_S2krbKtwfLWBM&cc=f42V2yZlPEV0d1OKc2hsq2uDR6bhsMKDzIq9xVG38Yw</a></p>\n",
       "        <p>The authorization workflow will generate a code, which you should paste in the box below.</p>\n",
       "        "
      ],
      "text/plain": [
       "<IPython.core.display.HTML object>"
      ]
     },
     "metadata": {},
     "output_type": "display_data"
    },
    {
     "name": "stdin",
     "output_type": "stream",
     "text": [
      "Enter verification code:  4/1AfgeXvt3a5cayVuAaRtPS5-wp50lyV_5MrAbEn8gTz4T6J6NqB34quwHeHo\n"
     ]
    },
    {
     "name": "stdout",
     "output_type": "stream",
     "text": [
      "\n",
      "Successfully saved authorization token.\n",
      "Google Earth Engine has initialized successfully!\n"
     ]
    }
   ],
   "source": [
    "import ee\n",
    "\n",
    "# Trigger the authentication flow.\n",
    "ee.Authenticate()\n",
    "\n",
    "try:\n",
    "    # Initialize the library.\n",
    "    ee.Initialize()\n",
    "    print('Google Earth Engine has initialized successfully!')\n",
    "except ee.EEException as e:\n",
    "    print('Google Earth Engine has failed to initialize!')\n",
    "except:\n",
    "    print(\"Unexpected error:\", sys.exc_info()[0])\n",
    "    raise"
   ]
  },
  {
   "cell_type": "markdown",
   "id": "d40934dd-e750-4a7b-97b0-d1ba2aa81da4",
   "metadata": {},
   "source": [
    "## Getting Data"
   ]
  },
  {
   "cell_type": "code",
   "execution_count": 2,
   "id": "d5ff7670-5014-4ca5-a6e1-742b3fa34c75",
   "metadata": {},
   "outputs": [],
   "source": [
    "#using ggemap python package for interactive mapping\n",
    "import geemap"
   ]
  },
  {
   "cell_type": "code",
   "execution_count": 3,
   "id": "77ccc46b-305d-45a6-a912-906a6f9e8115",
   "metadata": {},
   "outputs": [],
   "source": [
    "#Sentinel 2 cloud-free image in the Netherlands\n",
    "collection = ('COPERNICUS/S2')\n",
    "list_netherlands = list([(3.31, 50.80),(7.093, 50.80),(7.093, 53.52),(3.31, 53.52),(3.31, 50.80)])\n",
    "area_netherlands = ee.Geometry.Polygon(list_netherlands)"
   ]
  },
  {
   "cell_type": "code",
   "execution_count": 4,
   "id": "43b01a5e-a094-4bc2-bb85-be91d1b24977",
   "metadata": {},
   "outputs": [],
   "source": [
    "#Gather images of the Netehrlands  \n",
    "\n",
    "myCollection = ee.ImageCollection(collection) \\\n",
    "    .filterBounds(area_netherlands) \\\n",
    "    .filterDate('2017-01-01', '2017-07-01') \\\n",
    "    .filterMetadata('CLOUDY_PIXEL_PERCENTAGE', 'less_than', 20) \\\n",
    "    .sort('CLOUDY_PIXEL_PERCENTAGE', False)"
   ]
  },
  {
   "cell_type": "code",
   "execution_count": 5,
   "id": "d4b56359-bbbb-49a8-a805-6cdbf35ffdcb",
   "metadata": {},
   "outputs": [
    {
     "name": "stdout",
     "output_type": "stream",
     "text": [
      "Number of images in the collection:  148\n"
     ]
    }
   ],
   "source": [
    "listOfImages = myCollection.aggregate_array('system:index').getInfo()\n",
    "print('Number of images in the collection: ', len(listOfImages))"
   ]
  },
  {
   "cell_type": "code",
   "execution_count": 6,
   "id": "602c6734-8a58-4e89-9248-79afac3c3070",
   "metadata": {},
   "outputs": [],
   "source": [
    "# Reduce the Img collection by mean.\n",
    "img = myCollection.median()"
   ]
  },
  {
   "cell_type": "code",
   "execution_count": 7,
   "id": "b78540cd-071b-4977-846b-a57168a4e392",
   "metadata": {
    "tags": []
   },
   "outputs": [
    {
     "data": {
      "application/vnd.jupyter.widget-view+json": {
       "model_id": "3b27f2e7e2124ada8852c1e7c49675e8",
       "version_major": 2,
       "version_minor": 0
      },
      "text/plain": [
       "Map(center=[52.13, 5.29], controls=(WidgetControl(options=['position', 'transparent_bg'], widget=HBox(children…"
      ]
     },
     "metadata": {},
     "output_type": "display_data"
    }
   ],
   "source": [
    "# Compute Normalized Difference Vegetation Index over S2-L2 product.\n",
    "# NDVI = (NIR - RED) / (NIR + RED), where\n",
    "# RED is B4, 664.5 nm\n",
    "# NIR is B8, 835.1 nm\n",
    "\n",
    "# Calculate the NDVI manually: NDVI = (B8 - B4) / (B8 + B4)\n",
    "nir = img.select('B8')\n",
    "red = img.select('B4')\n",
    "ndvi = nir.subtract(red).divide(nir.add(red))\n",
    "\n",
    "# Display the result. \n",
    "ndviParams = {'min': -1, 'max': 1, 'palette': ['blue', 'white', 'green']} \n",
    "Map = geemap.Map()\n",
    "center = ee.Geometry.Point([5.29, 52.13]).getInfo()['coordinates']\n",
    "Map.setCenter(center[0], center[1], 7)\n",
    "Map.addLayer(ndvi, ndviParams, 'NDVI image #1')\n",
    "Map"
   ]
  },
  {
   "cell_type": "code",
   "execution_count": 8,
   "id": "7277fbd5-b363-4060-ab72-c222251beb49",
   "metadata": {},
   "outputs": [
    {
     "name": "stdout",
     "output_type": "stream",
     "text": [
      "Band 8 scale:  111319.49079327357\n"
     ]
    }
   ],
   "source": [
    "bscale = ndvi.select('B8').projection().nominalScale() \n",
    "print('Band 8 scale: ', bscale.getInfo()) # ee.Number"
   ]
  },
  {
   "cell_type": "markdown",
   "id": "7560a800-1c46-4381-ba37-73698d735419",
   "metadata": {},
   "source": [
    "### Clip an image by region of interest\n",
    "\n",
    "https://developers.google.com/earth-engine/tutorials/community/intro-to-python-api#clip_an_image_by_a_region_of_interest"
   ]
  },
  {
   "cell_type": "code",
   "execution_count": 9,
   "id": "75564707-683f-4528-8be9-32c90faea6e7",
   "metadata": {},
   "outputs": [
    {
     "data": {
      "application/vnd.jupyter.widget-view+json": {
       "model_id": "cbbdf7429ef842c78904f88e69a473b3",
       "version_major": 2,
       "version_minor": 0
      },
      "text/plain": [
       "Map(center=[52.13, 5.29], controls=(WidgetControl(options=['position', 'transparent_bg'], widget=HBox(children…"
      ]
     },
     "metadata": {},
     "output_type": "display_data"
    }
   ],
   "source": [
    "#Clip an image by region of interest\n",
    "\n",
    "# Get a feature collection of administrative boundaries.\n",
    "countries = ee.FeatureCollection('FAO/GAUL/2015/level0').select('ADM0_NAME')\n",
    "\n",
    "# Filter the feature collection to subset Netherlands.\n",
    "Netherlands = countries.filter(ee.Filter.eq('ADM0_NAME', 'Netherlands'))\n",
    "\n",
    "# Clip the image by Netherlands.\n",
    "ndvi_nl = ndvi.clip(Netherlands)\n",
    "\n",
    "# Display the result. \n",
    "ndviParams = {'min': -1, 'max': 1, 'palette': ['blue', 'white', 'green']} \n",
    "Map = geemap.Map()\n",
    "center = ee.Geometry.Point([5.29, 52.13]).getInfo()['coordinates']\n",
    "Map.setCenter(center[0], center[1], 7)\n",
    "Map.addLayer(ndvi_nl, ndviParams, 'NDVI image #1')\n",
    "Map"
   ]
  },
  {
   "cell_type": "code",
   "execution_count": 22,
   "id": "924ac754-e682-41f6-bf94-9d7b016d8b80",
   "metadata": {},
   "outputs": [],
   "source": [
    "# Export to GEOTIFF file with the pixel resolution of 1km*1Km and with Dutch reference system (to be same and match with the block map)\n",
    "task = ee.batch.Export.image.toDrive(image=ndvi,\n",
    "                                     description='ndvi_Netherlands',\n",
    "                                     scale=1000,\n",
    "                                     region=area_netherlands,\n",
    "                                     fileNamePrefix='ndvi_raster',\n",
    "                                     crs='EPSG: 28992',\n",
    "                                     fileFormat='GeoTIFF')\n",
    "task.start()"
   ]
  },
  {
   "cell_type": "code",
   "execution_count": 23,
   "id": "c0bd7c9b-b4ad-4489-a24c-7b898a40d74b",
   "metadata": {},
   "outputs": [
    {
     "data": {
      "text/plain": [
       "{'state': 'READY',\n",
       " 'description': 'ndvi_Netherlands',\n",
       " 'creation_timestamp_ms': 1667387842019,\n",
       " 'update_timestamp_ms': 1667387842019,\n",
       " 'start_timestamp_ms': 0,\n",
       " 'task_type': 'EXPORT_IMAGE',\n",
       " 'id': 'PDHRXVS4UP2J25DO24V2ZVWM',\n",
       " 'name': 'projects/earthengine-legacy/operations/PDHRXVS4UP2J25DO24V2ZVWM'}"
      ]
     },
     "execution_count": 23,
     "metadata": {},
     "output_type": "execute_result"
    }
   ],
   "source": [
    "task.status()"
   ]
  }
 ],
 "metadata": {
  "kernelspec": {
   "display_name": "Python",
   "language": "python",
   "name": "python3"
  },
  "language_info": {
   "codemirror_mode": {
    "name": "ipython",
    "version": 3
   },
   "file_extension": ".py",
   "mimetype": "text/x-python",
   "name": "python",
   "nbconvert_exporter": "python",
   "pygments_lexer": "ipython3",
   "version": "3.8.10"
  }
 },
 "nbformat": 4,
 "nbformat_minor": 5
}
