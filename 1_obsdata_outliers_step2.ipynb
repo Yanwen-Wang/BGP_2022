{
 "cells": [
  {
   "cell_type": "markdown",
   "id": "52730cba-805c-468d-afeb-8ae977b6aadb",
   "metadata": {},
   "source": [
    "1. Read observers raster data."
   ]
  },
  {
   "cell_type": "code",
   "execution_count": 27,
   "id": "a4eb7e19-eadb-4067-a0ef-af5535a590d8",
   "metadata": {},
   "outputs": [],
   "source": [
    "from osgeo import gdal\n",
    "import numpy as np\n",
    "\n",
    "data_path = '0_data/'\n",
    "\n",
    "obs_blocks = gdal.Open(data_path + 'obs_blocks.tif')\n",
    "obs_blocks_band = obs_blocks.GetRasterBand(1)\n",
    "obs_blocks_data = obs_blocks.ReadAsArray()\n",
    "row_length = obs_blocks.RasterYSize\n",
    "col_length = obs_blocks.RasterXSize\n",
    "tif_geotrans = obs_blocks.GetGeoTransform()\n",
    "tif_proj = obs_blocks.GetProjection()\n",
    "\n",
    "obs_values = []\n",
    "obs_points = []\n",
    "for row in range(row_length):\n",
    "    for col in range(col_length):\n",
    "        obs_value = obs_blocks_data[row, col]\n",
    "        if obs_value > 0:\n",
    "            obs_points.append([row, col])\n",
    "            obs_values.append([int(obs_value)])\n",
    "            \n",
    "obs_values = np.array(obs_values)\n",
    "obs_points = np.array(obs_points)\n",
    "\n",
    "obs_max = obs_values.max()\n",
    "obs_value_x = np.arange(obs_max + 1)\n",
    "obs_value_numy = np.zeros(obs_max + 1)\n",
    "for value in obs_values:\n",
    "    obs_value_x[value] = value\n",
    "    obs_value_numy[value] = obs_value_numy[value] + 1"
   ]
  },
  {
   "cell_type": "markdown",
   "id": "04104334-5c7c-4d3c-b611-f3a745c754d8",
   "metadata": {},
   "source": [
    "2. Calculate outlier value."
   ]
  },
  {
   "cell_type": "code",
   "execution_count": 28,
   "id": "4d595351-0b3c-4bf8-8bba-6fb991dded38",
   "metadata": {},
   "outputs": [],
   "source": [
    "Q1 = np.percentile(obs_values, 25)\n",
    "Q3 = np.percentile(obs_values, 75)\n",
    "outlier = Q3 + 1.5 * (Q3-Q1)\n",
    "\n",
    "outlier_num = 0\n",
    "for value in obs_values:\n",
    "    if value > outlier:\n",
    "        outlier_num = outlier_num + 1\n",
    "\n",
    "\n",
    "# Only save outlier data\n",
    "obs_outliers = np.zeros((row_length, col_length))\n",
    "for row in range(row_length):\n",
    "    for col in range(col_length):\n",
    "        obs_value = obs_blocks_data[row, col]\n",
    "        if obs_value > outlier:\n",
    "            obs_outliers[row, col] = 1\n",
    "\n",
    "# Remove noise of outlier data.            \n",
    "obs_outliers_nonoise = np.zeros((row_length, col_length))      \n",
    "for row in range(1, row_length-1):\n",
    "    for col in range(1, col_length-1):\n",
    "        obs_outif = obs_outliers[row, col]\n",
    "        if obs_outif > 0:\n",
    "            nbr_outsum = 0\n",
    "            for k in [-1, 0, 1]:\n",
    "                for l in [-1, 0, 1]:\n",
    "                    obs_nbr_outif = obs_outliers[row+k, col+l]\n",
    "                    nbr_outsum = nbr_outsum + obs_nbr_outif\n",
    "            if nbr_outsum > 4:\n",
    "                obs_outliers_nonoise[row, col] = 1"
   ]
  },
  {
   "cell_type": "code",
   "execution_count": 3,
   "id": "a86d60b4-5ce3-443f-854f-564176c98f8e",
   "metadata": {},
   "outputs": [],
   "source": [
    "# Save to tif\n",
    "driver = gdal.GetDriverByName('GTiff')\n",
    "obs_outliers_dataset = driver.Create(data_path + 'obs_outliers.tif', col_length, row_length, 1, gdal.GDT_Int32)\n",
    "obs_outliers_dataset.SetGeoTransform(tif_geotrans)\n",
    "obs_outliers_dataset.SetProjection(tif_proj)\n",
    "obs_outliers_dataset.GetRasterBand(1).WriteArray(obs_outliers)\n",
    "# Save finish.\n",
    "del obs_outliers_dataset\n",
    "\n",
    "# Save to tif\n",
    "driver = gdal.GetDriverByName('GTiff')\n",
    "obs_outdenoise_dataset = driver.Create(data_path + 'obs_outliers_denoise.tif', col_length, row_length, 1, gdal.GDT_Int32)\n",
    "obs_outdenoise_dataset.SetGeoTransform(tif_geotrans)\n",
    "obs_outdenoise_dataset.SetProjection(tif_proj)\n",
    "obs_outdenoise_dataset.GetRasterBand(1).WriteArray(obs_outliers_nonoise)\n",
    "# Save finish.\n",
    "del obs_outdenoise_dataset"
   ]
  },
  {
   "cell_type": "markdown",
   "id": "7105f6c8-2d1d-41ee-a20e-bb2c2af89d48",
   "metadata": {},
   "source": [
    "3. Calculate autocorrelation range for following clustering process."
   ]
  },
  {
   "cell_type": "code",
   "execution_count": 52,
   "id": "8f4f2930-03e8-43dd-919f-3102c9890190",
   "metadata": {},
   "outputs": [],
   "source": [
    "obs_comb = np.hstack((obs_points, obs_values))\n",
    "obs_samples = np.copy(obs_comb)\n",
    "np.random.shuffle(obs_samples)\n",
    "\n",
    "import skgstat as skg\n",
    "variogram = skg.Variogram(coordinates = obs_samples[:, :2], values = obs_samples[:, 2], \n",
    "                              n_lags = 50, maxlag = 50)\n",
    "sp_threshold = variogram.parameters[0]\n"
   ]
  },
  {
   "cell_type": "code",
   "execution_count": 53,
   "id": "4a71ee99-11ea-43b7-a07a-86e7ba74353e",
   "metadata": {},
   "outputs": [
    {
     "data": {
      "text/plain": [
       "4.42610086052637"
      ]
     },
     "execution_count": 53,
     "metadata": {},
     "output_type": "execute_result"
    }
   ],
   "source": [
    "sp_threshold"
   ]
  },
  {
   "cell_type": "code",
   "execution_count": null,
   "id": "83a12419-66c3-4299-9eae-bced6432f0bf",
   "metadata": {},
   "outputs": [],
   "source": []
  }
 ],
 "metadata": {
  "kernelspec": {
   "display_name": "Python",
   "language": "python",
   "name": "python3"
  },
  "language_info": {
   "codemirror_mode": {
    "name": "ipython",
    "version": 3
   },
   "file_extension": ".py",
   "mimetype": "text/x-python",
   "name": "python",
   "nbconvert_exporter": "python",
   "pygments_lexer": "ipython3",
   "version": "3.8.10"
  }
 },
 "nbformat": 4,
 "nbformat_minor": 5
}
