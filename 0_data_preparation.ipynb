{
 "cells": [
  {
   "cell_type": "markdown",
   "id": "4069e037-d08c-43be-b643-e24fa9ee9cb2",
   "metadata": {},
   "source": [
    "Connect to database."
   ]
  },
  {
   "cell_type": "code",
   "execution_count": 1,
   "id": "8523448b-7412-4181-9d39-a7a292403356",
   "metadata": {},
   "outputs": [],
   "source": [
    "from sqlalchemy.engine.url import URL\n",
    "\n",
    "DB_USERNAME = \"bgd22_2804700\" # YOUR USER NAME\n",
    "DB_PASSWORD = \"narCO42z\" # YOUR PASSWORD\n",
    "DB_SCHEMA = \"public\"\n",
    "DB_HOSTNAME=\"gip.itc.utwente.nl\"\n",
    "DB_PORT=5434\n",
    "DB_DATABASE=\"c211\"\n",
    "\n",
    "\n",
    "\n",
    "postgres_db = {'drivername': 'postgresql',\n",
    "               'username': DB_USERNAME,\n",
    "               'password': DB_PASSWORD,\n",
    "               'host': DB_HOSTNAME,\n",
    "               'port': DB_PORT,\n",
    "               'database': DB_DATABASE}\n",
    "\n",
    "db_url = URL.create(**postgres_db)\n"
   ]
  },
  {
   "cell_type": "code",
   "execution_count": 2,
   "id": "12bc01e4-6a20-4eee-b347-ce3dca796239",
   "metadata": {},
   "outputs": [],
   "source": [
    "from sqlalchemy import create_engine, Column, Integer, String\n",
    "\n",
    "engine = create_engine(\n",
    "    db_url, isolation_level=\"AUTOCOMMIT\", pool_size=10, max_overflow=20)"
   ]
  },
  {
   "cell_type": "markdown",
   "id": "2cd4dfd9-e076-457b-bb98-53ae1224f1fe",
   "metadata": {},
   "source": [
    "Prepare dataset."
   ]
  },
  {
   "cell_type": "code",
   "execution_count": 3,
   "id": "91a4aa29-057d-437c-985a-cea90a3a67cc",
   "metadata": {},
   "outputs": [],
   "source": [
    "import pandas as pd\n",
    "dataout_path = '0_data/' # Should create this folder to store data."
   ]
  },
  {
   "cell_type": "markdown",
   "id": "208fae32-87a8-4894-9002-f7a0d127e746",
   "metadata": {},
   "source": [
    "1. Target variable(s) data.\n",
    "\n",
    "This is a spatio-temporal dataset, resolution is block-daily. Time range is half 2017 (because days database is end at 2017-06-30).\n",
    "Target variable is number of observations in spatio-temporal resolution. (And also acquire number of observers, number of species.)"
   ]
  },
  {
   "cell_type": "code",
   "execution_count": 4,
   "id": "51aa9867-973f-4bf6-9645-3c0675ed78b8",
   "metadata": {},
   "outputs": [
    {
     "data": {
      "text/html": [
       "<div>\n",
       "<style scoped>\n",
       "    .dataframe tbody tr th:only-of-type {\n",
       "        vertical-align: middle;\n",
       "    }\n",
       "\n",
       "    .dataframe tbody tr th {\n",
       "        vertical-align: top;\n",
       "    }\n",
       "\n",
       "    .dataframe thead th {\n",
       "        text-align: right;\n",
       "    }\n",
       "</style>\n",
       "<table border=\"1\" class=\"dataframe\">\n",
       "  <thead>\n",
       "    <tr style=\"text-align: right;\">\n",
       "      <th></th>\n",
       "      <th>block</th>\n",
       "      <th>obsdate</th>\n",
       "      <th>nb_observers</th>\n",
       "      <th>nb_observations</th>\n",
       "      <th>nb_species</th>\n",
       "    </tr>\n",
       "  </thead>\n",
       "  <tbody>\n",
       "    <tr>\n",
       "      <th>0</th>\n",
       "      <td>60</td>\n",
       "      <td>2017-02-05</td>\n",
       "      <td>1</td>\n",
       "      <td>1</td>\n",
       "      <td>1</td>\n",
       "    </tr>\n",
       "    <tr>\n",
       "      <th>1</th>\n",
       "      <td>61</td>\n",
       "      <td>2017-03-13</td>\n",
       "      <td>1</td>\n",
       "      <td>1</td>\n",
       "      <td>1</td>\n",
       "    </tr>\n",
       "    <tr>\n",
       "      <th>2</th>\n",
       "      <td>61</td>\n",
       "      <td>2017-06-08</td>\n",
       "      <td>1</td>\n",
       "      <td>7</td>\n",
       "      <td>7</td>\n",
       "    </tr>\n",
       "    <tr>\n",
       "      <th>3</th>\n",
       "      <td>62</td>\n",
       "      <td>2017-02-05</td>\n",
       "      <td>1</td>\n",
       "      <td>1</td>\n",
       "      <td>1</td>\n",
       "    </tr>\n",
       "    <tr>\n",
       "      <th>4</th>\n",
       "      <td>62</td>\n",
       "      <td>2017-02-25</td>\n",
       "      <td>2</td>\n",
       "      <td>2</td>\n",
       "      <td>1</td>\n",
       "    </tr>\n",
       "  </tbody>\n",
       "</table>\n",
       "</div>"
      ],
      "text/plain": [
       "   block     obsdate  nb_observers  nb_observations  nb_species\n",
       "0     60  2017-02-05             1                1           1\n",
       "1     61  2017-03-13             1                1           1\n",
       "2     61  2017-06-08             1                7           7\n",
       "3     62  2017-02-05             1                1           1\n",
       "4     62  2017-02-25             2                2           1"
      ]
     },
     "execution_count": 4,
     "metadata": {},
     "output_type": "execute_result"
    }
   ],
   "source": [
    "df2017st_observations_query = \"SELECT block, obsdate, COUNT(DISTINCT observer) as nb_observers, COUNT(*) as nb_observations, COUNT(DISTINCT species) as nb_species \"\\\n",
    "    \"FROM public.observation \"\\\n",
    "    \"WHERE latit != '0' \"\\\n",
    "    \"AND obsdate >= '2017-01-01' AND obsdate <= '2017-06-30' \"\\\n",
    "    \"GROUP BY block, obsdate;\"\n",
    "    \n",
    "\n",
    "df2017st_observations = pd.read_sql(df2017st_observations_query, engine)  \n",
    "df2017st_observations.head()"
   ]
  },
  {
   "cell_type": "code",
   "execution_count": 5,
   "id": "8799c12d-e6cc-4c57-8956-0a16bdf271ae",
   "metadata": {},
   "outputs": [
    {
     "data": {
      "text/plain": [
       "(538524, 5)"
      ]
     },
     "execution_count": 5,
     "metadata": {},
     "output_type": "execute_result"
    }
   ],
   "source": [
    "df2017st_observations.shape"
   ]
  },
  {
   "cell_type": "markdown",
   "id": "c772b2ec-5813-46db-8032-5f06e4c0c02c",
   "metadata": {},
   "source": [
    "2. Spatio-temporal features data.\n",
    "\n",
    "This is spatio-temporal input features data, including precipitation, temperature, and days (this is only temporal, but need to join it with precipitation and temperature.)"
   ]
  },
  {
   "cell_type": "code",
   "execution_count": 6,
   "id": "a0f12f0c-0b69-47a5-b0d2-1900f478d699",
   "metadata": {},
   "outputs": [
    {
     "data": {
      "text/html": [
       "<div>\n",
       "<style scoped>\n",
       "    .dataframe tbody tr th:only-of-type {\n",
       "        vertical-align: middle;\n",
       "    }\n",
       "\n",
       "    .dataframe tbody tr th {\n",
       "        vertical-align: top;\n",
       "    }\n",
       "\n",
       "    .dataframe thead th {\n",
       "        text-align: right;\n",
       "    }\n",
       "</style>\n",
       "<table border=\"1\" class=\"dataframe\">\n",
       "  <thead>\n",
       "    <tr style=\"text-align: right;\">\n",
       "      <th></th>\n",
       "      <th>obsdate</th>\n",
       "      <th>doy</th>\n",
       "      <th>dow</th>\n",
       "      <th>holiday</th>\n",
       "      <th>block</th>\n",
       "      <th>precip</th>\n",
       "      <th>temper</th>\n",
       "    </tr>\n",
       "  </thead>\n",
       "  <tbody>\n",
       "    <tr>\n",
       "      <th>0</th>\n",
       "      <td>2017-01-01</td>\n",
       "      <td>1</td>\n",
       "      <td>0</td>\n",
       "      <td>True</td>\n",
       "      <td>27</td>\n",
       "      <td>6.048740</td>\n",
       "      <td>1.50182</td>\n",
       "    </tr>\n",
       "    <tr>\n",
       "      <th>1</th>\n",
       "      <td>2017-01-02</td>\n",
       "      <td>2</td>\n",
       "      <td>1</td>\n",
       "      <td>False</td>\n",
       "      <td>27</td>\n",
       "      <td>0.460640</td>\n",
       "      <td>7.25872</td>\n",
       "    </tr>\n",
       "    <tr>\n",
       "      <th>2</th>\n",
       "      <td>2017-01-03</td>\n",
       "      <td>3</td>\n",
       "      <td>2</td>\n",
       "      <td>False</td>\n",
       "      <td>27</td>\n",
       "      <td>0.558334</td>\n",
       "      <td>6.31733</td>\n",
       "    </tr>\n",
       "    <tr>\n",
       "      <th>3</th>\n",
       "      <td>2017-01-04</td>\n",
       "      <td>4</td>\n",
       "      <td>3</td>\n",
       "      <td>False</td>\n",
       "      <td>27</td>\n",
       "      <td>1.106020</td>\n",
       "      <td>7.74568</td>\n",
       "    </tr>\n",
       "    <tr>\n",
       "      <th>4</th>\n",
       "      <td>2017-01-05</td>\n",
       "      <td>5</td>\n",
       "      <td>4</td>\n",
       "      <td>False</td>\n",
       "      <td>27</td>\n",
       "      <td>0.000000</td>\n",
       "      <td>5.50785</td>\n",
       "    </tr>\n",
       "  </tbody>\n",
       "</table>\n",
       "</div>"
      ],
      "text/plain": [
       "      obsdate  doy  dow  holiday  block    precip   temper\n",
       "0  2017-01-01    1    0     True     27  6.048740  1.50182\n",
       "1  2017-01-02    2    1    False     27  0.460640  7.25872\n",
       "2  2017-01-03    3    2    False     27  0.558334  6.31733\n",
       "3  2017-01-04    4    3    False     27  1.106020  7.74568\n",
       "4  2017-01-05    5    4    False     27  0.000000  5.50785"
      ]
     },
     "execution_count": 6,
     "metadata": {},
     "output_type": "execute_result"
    }
   ],
   "source": [
    "df2017stfeatures_query = \"SELECT dy.odate AS obsdate, doy, dow, natholiday AS holiday, prec.block, prec.precip, temp.temper \"\\\n",
    "    \"FROM public.days AS dy, public.precipitation AS prec, public.temperature as temp \"\\\n",
    "    \"WHERE dy.mdate = prec.dtime AND dy.mdate = temp.dtime AND prec.dtime = temp.dtime AND prec.block = temp.block \"\\\n",
    "    \"AND dy.odate >= '2017-01-01' AND dy.odate <= '2017-06-30';\"\n",
    "\n",
    "df2017stfeatures = pd.read_sql(df2017stfeatures_query, engine)  \n",
    "df2017stfeatures.head()"
   ]
  },
  {
   "cell_type": "code",
   "execution_count": 7,
   "id": "2aa10eb9-dabe-4af0-b2d3-fd47125b8bae",
   "metadata": {},
   "outputs": [
    {
     "data": {
      "text/plain": [
       "(7280892, 7)"
      ]
     },
     "execution_count": 7,
     "metadata": {},
     "output_type": "execute_result"
    }
   ],
   "source": [
    "df2017stfeatures.shape"
   ]
  },
  {
   "cell_type": "markdown",
   "id": "0933b13e-b775-4d7e-a528-87a55c217163",
   "metadata": {},
   "source": [
    "3. Spatial features data.\n",
    "\n",
    "This is spatial input features data, including block_biodiversity, block_demography, block_road_access, and NDVI"
   ]
  },
  {
   "cell_type": "code",
   "execution_count": 8,
   "id": "9d7326d1-cec1-4c68-a52f-ca70621aa8fa",
   "metadata": {},
   "outputs": [
    {
     "data": {
      "text/html": [
       "<div>\n",
       "<style scoped>\n",
       "    .dataframe tbody tr th:only-of-type {\n",
       "        vertical-align: middle;\n",
       "    }\n",
       "\n",
       "    .dataframe tbody tr th {\n",
       "        vertical-align: top;\n",
       "    }\n",
       "\n",
       "    .dataframe thead th {\n",
       "        text-align: right;\n",
       "    }\n",
       "</style>\n",
       "<table border=\"1\" class=\"dataframe\">\n",
       "  <thead>\n",
       "    <tr style=\"text-align: right;\">\n",
       "      <th></th>\n",
       "      <th>block</th>\n",
       "      <th>maintainer</th>\n",
       "      <th>scale</th>\n",
       "      <th>roadlength</th>\n",
       "    </tr>\n",
       "  </thead>\n",
       "  <tbody>\n",
       "    <tr>\n",
       "      <th>0</th>\n",
       "      <td>62</td>\n",
       "      <td>G</td>\n",
       "      <td>1</td>\n",
       "      <td>656.363163</td>\n",
       "    </tr>\n",
       "    <tr>\n",
       "      <th>1</th>\n",
       "      <td>62</td>\n",
       "      <td>P</td>\n",
       "      <td>1</td>\n",
       "      <td>1187.960076</td>\n",
       "    </tr>\n",
       "    <tr>\n",
       "      <th>2</th>\n",
       "      <td>63</td>\n",
       "      <td>G</td>\n",
       "      <td>1</td>\n",
       "      <td>12193.064129</td>\n",
       "    </tr>\n",
       "    <tr>\n",
       "      <th>3</th>\n",
       "      <td>64</td>\n",
       "      <td>G</td>\n",
       "      <td>1</td>\n",
       "      <td>1526.461025</td>\n",
       "    </tr>\n",
       "    <tr>\n",
       "      <th>4</th>\n",
       "      <td>66</td>\n",
       "      <td>G</td>\n",
       "      <td>1</td>\n",
       "      <td>1257.901412</td>\n",
       "    </tr>\n",
       "  </tbody>\n",
       "</table>\n",
       "</div>"
      ],
      "text/plain": [
       "   block maintainer  scale    roadlength\n",
       "0     62          G      1    656.363163\n",
       "1     62          P      1   1187.960076\n",
       "2     63          G      1  12193.064129\n",
       "3     64          G      1   1526.461025\n",
       "4     66          G      1   1257.901412"
      ]
     },
     "execution_count": 8,
     "metadata": {},
     "output_type": "execute_result"
    }
   ],
   "source": [
    "# Before acquire spatial features, first process block_road_access to combine all access road length.\n",
    "dfroadnowater_query = \"SELECT * \"\\\n",
    "    \"FROM public.block_road_access \"\\\n",
    "    \"WHERE maintainer != 'W';\"\n",
    "\n",
    "dfroadnowater = pd.read_sql(dfroadnowater_query, engine)  \n",
    "dfroadnowater.head()"
   ]
  },
  {
   "cell_type": "code",
   "execution_count": 9,
   "id": "bd5853c0-1429-473b-bb5f-953637c7c90c",
   "metadata": {},
   "outputs": [
    {
     "data": {
      "text/plain": [
       "(44952, 4)"
      ]
     },
     "execution_count": 9,
     "metadata": {},
     "output_type": "execute_result"
    }
   ],
   "source": [
    "dfroadnowater.shape"
   ]
  },
  {
   "cell_type": "code",
   "execution_count": 10,
   "id": "b42c018e-3045-419f-b473-ce1ee8af7be0",
   "metadata": {},
   "outputs": [],
   "source": [
    "block_max_id = dfroadnowater['block'].max()\n",
    "import numpy as np\n",
    "# Initial array to calculate no water road length sum.\n",
    "arrayroadnowater = np.zeros(block_max_id + 1)\n",
    "# Do length sum.\n",
    "for i in range(len(dfroadnowater)):\n",
    "    block_id = dfroadnowater.iat[i, 0]\n",
    "    curret_length = dfroadnowater.iat[i, 3]\n",
    "    arrayroadnowater[block_id] = arrayroadnowater[block_id] + curret_length\n",
    "\n",
    "# save result.\n",
    "import csv\n",
    "roadnowater_file = dataout_path + 'roadnowater.csv' \n",
    "csv_header = [\"block\", \"roads_nowater_length\"]\n",
    "with open (roadnowater_file, \"w\", newline = '') as roadnowater_data:\n",
    "    roadnowater_csv = csv.writer(roadnowater_data)\n",
    "    roadnowater_csv.writerow(csv_header)\n",
    "    for j in range(len(arrayroadnowater)):\n",
    "        block_id = j\n",
    "        roadnowater_length = arrayroadnowater[j]\n",
    "        if roadnowater_length > 0:\n",
    "            roadnowater_writerow = [j, roadnowater_length]\n",
    "            roadnowater_csv.writerow(roadnowater_writerow)"
   ]
  },
  {
   "cell_type": "code",
   "execution_count": 11,
   "id": "11163d1b-347f-4506-a15d-c6e9d31cf197",
   "metadata": {},
   "outputs": [
    {
     "data": {
      "text/html": [
       "<div>\n",
       "<style scoped>\n",
       "    .dataframe tbody tr th:only-of-type {\n",
       "        vertical-align: middle;\n",
       "    }\n",
       "\n",
       "    .dataframe tbody tr th {\n",
       "        vertical-align: top;\n",
       "    }\n",
       "\n",
       "    .dataframe thead th {\n",
       "        text-align: right;\n",
       "    }\n",
       "</style>\n",
       "<table border=\"1\" class=\"dataframe\">\n",
       "  <thead>\n",
       "    <tr style=\"text-align: right;\">\n",
       "      <th></th>\n",
       "      <th>block</th>\n",
       "      <th>longit</th>\n",
       "      <th>latit</th>\n",
       "      <th>geom</th>\n",
       "      <th>urlnr</th>\n",
       "      <th>aves2012_2016</th>\n",
       "      <th>pop001</th>\n",
       "    </tr>\n",
       "  </thead>\n",
       "  <tbody>\n",
       "    <tr>\n",
       "      <th>0</th>\n",
       "      <td>60</td>\n",
       "      <td>15</td>\n",
       "      <td>367</td>\n",
       "      <td>010300002040710000010000000500000000000000004C...</td>\n",
       "      <td>630182</td>\n",
       "      <td>16</td>\n",
       "      <td>10</td>\n",
       "    </tr>\n",
       "    <tr>\n",
       "      <th>1</th>\n",
       "      <td>61</td>\n",
       "      <td>15</td>\n",
       "      <td>368</td>\n",
       "      <td>010300002040710000010000000500000000000000004C...</td>\n",
       "      <td>630183</td>\n",
       "      <td>25</td>\n",
       "      <td>0</td>\n",
       "    </tr>\n",
       "    <tr>\n",
       "      <th>2</th>\n",
       "      <td>62</td>\n",
       "      <td>15</td>\n",
       "      <td>369</td>\n",
       "      <td>010300002040710000010000000500000000000000004C...</td>\n",
       "      <td>630184</td>\n",
       "      <td>13</td>\n",
       "      <td>30</td>\n",
       "    </tr>\n",
       "    <tr>\n",
       "      <th>3</th>\n",
       "      <td>63</td>\n",
       "      <td>15</td>\n",
       "      <td>370</td>\n",
       "      <td>010300002040710000010000000500000000000000004C...</td>\n",
       "      <td>630185</td>\n",
       "      <td>66</td>\n",
       "      <td>1700</td>\n",
       "    </tr>\n",
       "    <tr>\n",
       "      <th>4</th>\n",
       "      <td>64</td>\n",
       "      <td>15</td>\n",
       "      <td>371</td>\n",
       "      <td>010300002040710000010000000500000000000000004C...</td>\n",
       "      <td>630186</td>\n",
       "      <td>40</td>\n",
       "      <td>235</td>\n",
       "    </tr>\n",
       "  </tbody>\n",
       "</table>\n",
       "</div>"
      ],
      "text/plain": [
       "   block  longit  latit                                               geom  \\\n",
       "0     60      15    367  010300002040710000010000000500000000000000004C...   \n",
       "1     61      15    368  010300002040710000010000000500000000000000004C...   \n",
       "2     62      15    369  010300002040710000010000000500000000000000004C...   \n",
       "3     63      15    370  010300002040710000010000000500000000000000004C...   \n",
       "4     64      15    371  010300002040710000010000000500000000000000004C...   \n",
       "\n",
       "    urlnr  aves2012_2016  pop001  \n",
       "0  630182             16      10  \n",
       "1  630183             25       0  \n",
       "2  630184             13      30  \n",
       "3  630185             66    1700  \n",
       "4  630186             40     235  "
      ]
     },
     "execution_count": 11,
     "metadata": {},
     "output_type": "execute_result"
    }
   ],
   "source": [
    "dfspatial_query = \"SELECT b.*,  bio.aves2012_2016, pop.pop001 \"\\\n",
    "    \"FROM public.block AS b, public.biodiversity AS bio, public.block_demography AS pop \"\\\n",
    "    \"WHERE b.latit != '0' \"\\\n",
    "    \"AND b.block = bio.block AND b.block = pop.block;\"\n",
    "# Don't use landuse here, because block is not unique in block_landuse.\n",
    "dfspatial = pd.read_sql(dfspatial_query, engine)  \n",
    "dfspatial.head()"
   ]
  },
  {
   "cell_type": "code",
   "execution_count": 12,
   "id": "2063d834-c925-4b08-9a5f-16eddbba7da3",
   "metadata": {},
   "outputs": [
    {
     "data": {
      "text/plain": [
       "(37544, 7)"
      ]
     },
     "execution_count": 12,
     "metadata": {},
     "output_type": "execute_result"
    }
   ],
   "source": [
    "dfspatial.shape"
   ]
  },
  {
   "cell_type": "code",
   "execution_count": 13,
   "id": "4da65c40-46f7-47af-bf38-543e9e0e0e4c",
   "metadata": {},
   "outputs": [
    {
     "data": {
      "text/html": [
       "<div>\n",
       "<style scoped>\n",
       "    .dataframe tbody tr th:only-of-type {\n",
       "        vertical-align: middle;\n",
       "    }\n",
       "\n",
       "    .dataframe tbody tr th {\n",
       "        vertical-align: top;\n",
       "    }\n",
       "\n",
       "    .dataframe thead th {\n",
       "        text-align: right;\n",
       "    }\n",
       "</style>\n",
       "<table border=\"1\" class=\"dataframe\">\n",
       "  <thead>\n",
       "    <tr style=\"text-align: right;\">\n",
       "      <th></th>\n",
       "      <th>block</th>\n",
       "      <th>roads_nowater_length</th>\n",
       "    </tr>\n",
       "  </thead>\n",
       "  <tbody>\n",
       "    <tr>\n",
       "      <th>0</th>\n",
       "      <td>62</td>\n",
       "      <td>1844.323239</td>\n",
       "    </tr>\n",
       "    <tr>\n",
       "      <th>1</th>\n",
       "      <td>63</td>\n",
       "      <td>12193.064129</td>\n",
       "    </tr>\n",
       "    <tr>\n",
       "      <th>2</th>\n",
       "      <td>64</td>\n",
       "      <td>1526.461025</td>\n",
       "    </tr>\n",
       "    <tr>\n",
       "      <th>3</th>\n",
       "      <td>66</td>\n",
       "      <td>1257.901412</td>\n",
       "    </tr>\n",
       "    <tr>\n",
       "      <th>4</th>\n",
       "      <td>68</td>\n",
       "      <td>6936.806033</td>\n",
       "    </tr>\n",
       "  </tbody>\n",
       "</table>\n",
       "</div>"
      ],
      "text/plain": [
       "   block  roads_nowater_length\n",
       "0     62           1844.323239\n",
       "1     63          12193.064129\n",
       "2     64           1526.461025\n",
       "3     66           1257.901412\n",
       "4     68           6936.806033"
      ]
     },
     "execution_count": 13,
     "metadata": {},
     "output_type": "execute_result"
    }
   ],
   "source": [
    "# Connect dfspatial and road data.\n",
    "dfroad_length = pd.read_csv(dataout_path + 'roadnowater.csv')\n",
    "dfroad_length.head()"
   ]
  },
  {
   "cell_type": "code",
   "execution_count": 14,
   "id": "f9a8be1d-bf2b-43ab-8c76-040d4804e302",
   "metadata": {},
   "outputs": [
    {
     "data": {
      "text/html": [
       "<div>\n",
       "<style scoped>\n",
       "    .dataframe tbody tr th:only-of-type {\n",
       "        vertical-align: middle;\n",
       "    }\n",
       "\n",
       "    .dataframe tbody tr th {\n",
       "        vertical-align: top;\n",
       "    }\n",
       "\n",
       "    .dataframe thead th {\n",
       "        text-align: right;\n",
       "    }\n",
       "</style>\n",
       "<table border=\"1\" class=\"dataframe\">\n",
       "  <thead>\n",
       "    <tr style=\"text-align: right;\">\n",
       "      <th></th>\n",
       "      <th>block</th>\n",
       "      <th>ndvi</th>\n",
       "    </tr>\n",
       "  </thead>\n",
       "  <tbody>\n",
       "    <tr>\n",
       "      <th>0</th>\n",
       "      <td>23984</td>\n",
       "      <td>-0.324561</td>\n",
       "    </tr>\n",
       "    <tr>\n",
       "      <th>1</th>\n",
       "      <td>24238</td>\n",
       "      <td>-0.346197</td>\n",
       "    </tr>\n",
       "    <tr>\n",
       "      <th>2</th>\n",
       "      <td>24492</td>\n",
       "      <td>-0.349943</td>\n",
       "    </tr>\n",
       "    <tr>\n",
       "      <th>3</th>\n",
       "      <td>24746</td>\n",
       "      <td>-0.351852</td>\n",
       "    </tr>\n",
       "    <tr>\n",
       "      <th>4</th>\n",
       "      <td>25000</td>\n",
       "      <td>-0.329298</td>\n",
       "    </tr>\n",
       "  </tbody>\n",
       "</table>\n",
       "</div>"
      ],
      "text/plain": [
       "   block      ndvi\n",
       "0  23984 -0.324561\n",
       "1  24238 -0.346197\n",
       "2  24492 -0.349943\n",
       "3  24746 -0.351852\n",
       "4  25000 -0.329298"
      ]
     },
     "execution_count": 14,
     "metadata": {},
     "output_type": "execute_result"
    }
   ],
   "source": [
    "# Execute ndvi value fro blocks from database\n",
    "df_ndvi_query = \"SELECT block, ndvi \"\\\n",
    "    \"FROM bgd22_2804700.block_ndvi;\"\n",
    "   \n",
    "\n",
    "df_ndvi = pd.read_sql(df_ndvi_query, engine)  \n",
    "df_ndvi.head()"
   ]
  },
  {
   "cell_type": "code",
   "execution_count": 18,
   "id": "85527e59-756d-43ca-a898-94b037dd677a",
   "metadata": {},
   "outputs": [
    {
     "data": {
      "text/plain": [
       "(44269, 2)"
      ]
     },
     "execution_count": 18,
     "metadata": {},
     "output_type": "execute_result"
    }
   ],
   "source": [
    "df_ndvi.shape"
   ]
  },
  {
   "cell_type": "code",
   "execution_count": 19,
   "id": "a6657166-67b3-4f74-a690-8c3e9e270e50",
   "metadata": {},
   "outputs": [
    {
     "data": {
      "text/html": [
       "<div>\n",
       "<style scoped>\n",
       "    .dataframe tbody tr th:only-of-type {\n",
       "        vertical-align: middle;\n",
       "    }\n",
       "\n",
       "    .dataframe tbody tr th {\n",
       "        vertical-align: top;\n",
       "    }\n",
       "\n",
       "    .dataframe thead th {\n",
       "        text-align: right;\n",
       "    }\n",
       "</style>\n",
       "<table border=\"1\" class=\"dataframe\">\n",
       "  <thead>\n",
       "    <tr style=\"text-align: right;\">\n",
       "      <th></th>\n",
       "      <th>block</th>\n",
       "      <th>longit</th>\n",
       "      <th>latit</th>\n",
       "      <th>geom</th>\n",
       "      <th>urlnr</th>\n",
       "      <th>aves2012_2016</th>\n",
       "      <th>pop001</th>\n",
       "      <th>roads_nowater_length</th>\n",
       "      <th>ndvi</th>\n",
       "    </tr>\n",
       "  </thead>\n",
       "  <tbody>\n",
       "    <tr>\n",
       "      <th>0</th>\n",
       "      <td>62</td>\n",
       "      <td>15</td>\n",
       "      <td>369</td>\n",
       "      <td>010300002040710000010000000500000000000000004C...</td>\n",
       "      <td>630184</td>\n",
       "      <td>13</td>\n",
       "      <td>30</td>\n",
       "      <td>1844.323239</td>\n",
       "      <td>0.417693</td>\n",
       "    </tr>\n",
       "    <tr>\n",
       "      <th>1</th>\n",
       "      <td>63</td>\n",
       "      <td>15</td>\n",
       "      <td>370</td>\n",
       "      <td>010300002040710000010000000500000000000000004C...</td>\n",
       "      <td>630185</td>\n",
       "      <td>66</td>\n",
       "      <td>1700</td>\n",
       "      <td>12193.064129</td>\n",
       "      <td>0.482932</td>\n",
       "    </tr>\n",
       "    <tr>\n",
       "      <th>2</th>\n",
       "      <td>64</td>\n",
       "      <td>15</td>\n",
       "      <td>371</td>\n",
       "      <td>010300002040710000010000000500000000000000004C...</td>\n",
       "      <td>630186</td>\n",
       "      <td>40</td>\n",
       "      <td>235</td>\n",
       "      <td>1526.461025</td>\n",
       "      <td>0.581983</td>\n",
       "    </tr>\n",
       "    <tr>\n",
       "      <th>3</th>\n",
       "      <td>66</td>\n",
       "      <td>15</td>\n",
       "      <td>375</td>\n",
       "      <td>010300002040710000010000000500000000000000004C...</td>\n",
       "      <td>630188</td>\n",
       "      <td>120</td>\n",
       "      <td>140</td>\n",
       "      <td>1257.901412</td>\n",
       "      <td>0.552115</td>\n",
       "    </tr>\n",
       "    <tr>\n",
       "      <th>4</th>\n",
       "      <td>68</td>\n",
       "      <td>15</td>\n",
       "      <td>377</td>\n",
       "      <td>010300002040710000010000000500000000000000004C...</td>\n",
       "      <td>630190</td>\n",
       "      <td>87</td>\n",
       "      <td>10</td>\n",
       "      <td>6936.806033</td>\n",
       "      <td>0.430350</td>\n",
       "    </tr>\n",
       "  </tbody>\n",
       "</table>\n",
       "</div>"
      ],
      "text/plain": [
       "   block  longit  latit                                               geom  \\\n",
       "0     62      15    369  010300002040710000010000000500000000000000004C...   \n",
       "1     63      15    370  010300002040710000010000000500000000000000004C...   \n",
       "2     64      15    371  010300002040710000010000000500000000000000004C...   \n",
       "3     66      15    375  010300002040710000010000000500000000000000004C...   \n",
       "4     68      15    377  010300002040710000010000000500000000000000004C...   \n",
       "\n",
       "    urlnr  aves2012_2016  pop001  roads_nowater_length      ndvi  \n",
       "0  630184             13      30           1844.323239  0.417693  \n",
       "1  630185             66    1700          12193.064129  0.482932  \n",
       "2  630186             40     235           1526.461025  0.581983  \n",
       "3  630188            120     140           1257.901412  0.552115  \n",
       "4  630190             87      10           6936.806033  0.430350  "
      ]
     },
     "execution_count": 19,
     "metadata": {},
     "output_type": "execute_result"
    }
   ],
   "source": [
    "dfspatial_road_demography = pd.merge(dfspatial, dfroad_length, on = 'block')\n",
    "dfspatialall = pd.merge(dfspatial_road_demography, df_ndvi, on = 'block')\n",
    "dfspatialall.head()"
   ]
  },
  {
   "cell_type": "code",
   "execution_count": 20,
   "id": "ae7beefa-8a9d-470e-a0da-c3c6482a09c2",
   "metadata": {},
   "outputs": [
    {
     "data": {
      "text/plain": [
       "(32658, 9)"
      ]
     },
     "execution_count": 20,
     "metadata": {},
     "output_type": "execute_result"
    }
   ],
   "source": [
    "dfspatialall.shape"
   ]
  },
  {
   "cell_type": "markdown",
   "id": "81400e89-3908-4389-a2c5-29c25aaa2ae9",
   "metadata": {},
   "source": [
    "Now connect all data to acquire the final dataset for implementation."
   ]
  },
  {
   "cell_type": "code",
   "execution_count": 21,
   "id": "640dbfec-7350-47aa-a665-2c604369da3e",
   "metadata": {},
   "outputs": [
    {
     "data": {
      "text/html": [
       "<div>\n",
       "<style scoped>\n",
       "    .dataframe tbody tr th:only-of-type {\n",
       "        vertical-align: middle;\n",
       "    }\n",
       "\n",
       "    .dataframe tbody tr th {\n",
       "        vertical-align: top;\n",
       "    }\n",
       "\n",
       "    .dataframe thead th {\n",
       "        text-align: right;\n",
       "    }\n",
       "</style>\n",
       "<table border=\"1\" class=\"dataframe\">\n",
       "  <thead>\n",
       "    <tr style=\"text-align: right;\">\n",
       "      <th></th>\n",
       "      <th>block</th>\n",
       "      <th>obsdate</th>\n",
       "      <th>nb_observers</th>\n",
       "      <th>nb_observations</th>\n",
       "      <th>nb_species</th>\n",
       "      <th>doy</th>\n",
       "      <th>dow</th>\n",
       "      <th>holiday</th>\n",
       "      <th>precip</th>\n",
       "      <th>temper</th>\n",
       "    </tr>\n",
       "  </thead>\n",
       "  <tbody>\n",
       "    <tr>\n",
       "      <th>0</th>\n",
       "      <td>60</td>\n",
       "      <td>2017-02-05</td>\n",
       "      <td>1</td>\n",
       "      <td>1</td>\n",
       "      <td>1</td>\n",
       "      <td>36</td>\n",
       "      <td>0</td>\n",
       "      <td>False</td>\n",
       "      <td>0.235353</td>\n",
       "      <td>7.46328</td>\n",
       "    </tr>\n",
       "    <tr>\n",
       "      <th>1</th>\n",
       "      <td>61</td>\n",
       "      <td>2017-03-13</td>\n",
       "      <td>1</td>\n",
       "      <td>1</td>\n",
       "      <td>1</td>\n",
       "      <td>72</td>\n",
       "      <td>1</td>\n",
       "      <td>False</td>\n",
       "      <td>0.000000</td>\n",
       "      <td>11.59240</td>\n",
       "    </tr>\n",
       "    <tr>\n",
       "      <th>2</th>\n",
       "      <td>61</td>\n",
       "      <td>2017-06-08</td>\n",
       "      <td>1</td>\n",
       "      <td>7</td>\n",
       "      <td>7</td>\n",
       "      <td>159</td>\n",
       "      <td>4</td>\n",
       "      <td>False</td>\n",
       "      <td>4.093030</td>\n",
       "      <td>23.41180</td>\n",
       "    </tr>\n",
       "    <tr>\n",
       "      <th>3</th>\n",
       "      <td>62</td>\n",
       "      <td>2017-02-05</td>\n",
       "      <td>1</td>\n",
       "      <td>1</td>\n",
       "      <td>1</td>\n",
       "      <td>36</td>\n",
       "      <td>0</td>\n",
       "      <td>False</td>\n",
       "      <td>0.235353</td>\n",
       "      <td>7.42724</td>\n",
       "    </tr>\n",
       "    <tr>\n",
       "      <th>4</th>\n",
       "      <td>62</td>\n",
       "      <td>2017-02-25</td>\n",
       "      <td>2</td>\n",
       "      <td>2</td>\n",
       "      <td>1</td>\n",
       "      <td>56</td>\n",
       "      <td>6</td>\n",
       "      <td>False</td>\n",
       "      <td>0.585078</td>\n",
       "      <td>9.28602</td>\n",
       "    </tr>\n",
       "  </tbody>\n",
       "</table>\n",
       "</div>"
      ],
      "text/plain": [
       "   block     obsdate  nb_observers  nb_observations  nb_species  doy  dow  \\\n",
       "0     60  2017-02-05             1                1           1   36    0   \n",
       "1     61  2017-03-13             1                1           1   72    1   \n",
       "2     61  2017-06-08             1                7           7  159    4   \n",
       "3     62  2017-02-05             1                1           1   36    0   \n",
       "4     62  2017-02-25             2                2           1   56    6   \n",
       "\n",
       "   holiday    precip    temper  \n",
       "0    False  0.235353   7.46328  \n",
       "1    False  0.000000  11.59240  \n",
       "2    False  4.093030  23.41180  \n",
       "3    False  0.235353   7.42724  \n",
       "4    False  0.585078   9.28602  "
      ]
     },
     "execution_count": 21,
     "metadata": {},
     "output_type": "execute_result"
    }
   ],
   "source": [
    "df2017standst = pd.merge(df2017st_observations, df2017stfeatures, left_on = ['block', 'obsdate'], right_on = ['block','obsdate'])\n",
    "df2017standst.head()"
   ]
  },
  {
   "cell_type": "code",
   "execution_count": 22,
   "id": "604dd55e-c69e-4b59-846a-3cdf97ccb18b",
   "metadata": {},
   "outputs": [
    {
     "data": {
      "text/plain": [
       "(536163, 10)"
      ]
     },
     "execution_count": 22,
     "metadata": {},
     "output_type": "execute_result"
    }
   ],
   "source": [
    "df2017standst.shape"
   ]
  },
  {
   "cell_type": "code",
   "execution_count": 23,
   "id": "80f03a75-d4e6-43ba-892d-9203fafd77a0",
   "metadata": {},
   "outputs": [
    {
     "data": {
      "text/html": [
       "<div>\n",
       "<style scoped>\n",
       "    .dataframe tbody tr th:only-of-type {\n",
       "        vertical-align: middle;\n",
       "    }\n",
       "\n",
       "    .dataframe tbody tr th {\n",
       "        vertical-align: top;\n",
       "    }\n",
       "\n",
       "    .dataframe thead th {\n",
       "        text-align: right;\n",
       "    }\n",
       "</style>\n",
       "<table border=\"1\" class=\"dataframe\">\n",
       "  <thead>\n",
       "    <tr style=\"text-align: right;\">\n",
       "      <th></th>\n",
       "      <th>block</th>\n",
       "      <th>obsdate</th>\n",
       "      <th>nb_observers</th>\n",
       "      <th>nb_observations</th>\n",
       "      <th>nb_species</th>\n",
       "      <th>doy</th>\n",
       "      <th>dow</th>\n",
       "      <th>holiday</th>\n",
       "      <th>precip</th>\n",
       "      <th>temper</th>\n",
       "      <th>longit</th>\n",
       "      <th>latit</th>\n",
       "      <th>geom</th>\n",
       "      <th>urlnr</th>\n",
       "      <th>aves2012_2016</th>\n",
       "      <th>pop001</th>\n",
       "      <th>roads_nowater_length</th>\n",
       "      <th>ndvi</th>\n",
       "    </tr>\n",
       "  </thead>\n",
       "  <tbody>\n",
       "    <tr>\n",
       "      <th>0</th>\n",
       "      <td>62</td>\n",
       "      <td>2017-02-05</td>\n",
       "      <td>1</td>\n",
       "      <td>1</td>\n",
       "      <td>1</td>\n",
       "      <td>36</td>\n",
       "      <td>0</td>\n",
       "      <td>False</td>\n",
       "      <td>0.235353</td>\n",
       "      <td>7.42724</td>\n",
       "      <td>15</td>\n",
       "      <td>369</td>\n",
       "      <td>010300002040710000010000000500000000000000004C...</td>\n",
       "      <td>630184</td>\n",
       "      <td>13</td>\n",
       "      <td>30</td>\n",
       "      <td>1844.323239</td>\n",
       "      <td>0.417693</td>\n",
       "    </tr>\n",
       "    <tr>\n",
       "      <th>1</th>\n",
       "      <td>62</td>\n",
       "      <td>2017-02-25</td>\n",
       "      <td>2</td>\n",
       "      <td>2</td>\n",
       "      <td>1</td>\n",
       "      <td>56</td>\n",
       "      <td>6</td>\n",
       "      <td>False</td>\n",
       "      <td>0.585078</td>\n",
       "      <td>9.28602</td>\n",
       "      <td>15</td>\n",
       "      <td>369</td>\n",
       "      <td>010300002040710000010000000500000000000000004C...</td>\n",
       "      <td>630184</td>\n",
       "      <td>13</td>\n",
       "      <td>30</td>\n",
       "      <td>1844.323239</td>\n",
       "      <td>0.417693</td>\n",
       "    </tr>\n",
       "    <tr>\n",
       "      <th>2</th>\n",
       "      <td>62</td>\n",
       "      <td>2017-04-18</td>\n",
       "      <td>1</td>\n",
       "      <td>1</td>\n",
       "      <td>1</td>\n",
       "      <td>108</td>\n",
       "      <td>2</td>\n",
       "      <td>False</td>\n",
       "      <td>0.474744</td>\n",
       "      <td>10.80520</td>\n",
       "      <td>15</td>\n",
       "      <td>369</td>\n",
       "      <td>010300002040710000010000000500000000000000004C...</td>\n",
       "      <td>630184</td>\n",
       "      <td>13</td>\n",
       "      <td>30</td>\n",
       "      <td>1844.323239</td>\n",
       "      <td>0.417693</td>\n",
       "    </tr>\n",
       "    <tr>\n",
       "      <th>3</th>\n",
       "      <td>63</td>\n",
       "      <td>2017-01-21</td>\n",
       "      <td>1</td>\n",
       "      <td>5</td>\n",
       "      <td>4</td>\n",
       "      <td>21</td>\n",
       "      <td>6</td>\n",
       "      <td>False</td>\n",
       "      <td>0.000000</td>\n",
       "      <td>3.64525</td>\n",
       "      <td>15</td>\n",
       "      <td>370</td>\n",
       "      <td>010300002040710000010000000500000000000000004C...</td>\n",
       "      <td>630185</td>\n",
       "      <td>66</td>\n",
       "      <td>1700</td>\n",
       "      <td>12193.064129</td>\n",
       "      <td>0.482932</td>\n",
       "    </tr>\n",
       "    <tr>\n",
       "      <th>4</th>\n",
       "      <td>63</td>\n",
       "      <td>2017-02-05</td>\n",
       "      <td>1</td>\n",
       "      <td>8</td>\n",
       "      <td>8</td>\n",
       "      <td>36</td>\n",
       "      <td>0</td>\n",
       "      <td>False</td>\n",
       "      <td>0.235353</td>\n",
       "      <td>7.41745</td>\n",
       "      <td>15</td>\n",
       "      <td>370</td>\n",
       "      <td>010300002040710000010000000500000000000000004C...</td>\n",
       "      <td>630185</td>\n",
       "      <td>66</td>\n",
       "      <td>1700</td>\n",
       "      <td>12193.064129</td>\n",
       "      <td>0.482932</td>\n",
       "    </tr>\n",
       "  </tbody>\n",
       "</table>\n",
       "</div>"
      ],
      "text/plain": [
       "   block     obsdate  nb_observers  nb_observations  nb_species  doy  dow  \\\n",
       "0     62  2017-02-05             1                1           1   36    0   \n",
       "1     62  2017-02-25             2                2           1   56    6   \n",
       "2     62  2017-04-18             1                1           1  108    2   \n",
       "3     63  2017-01-21             1                5           4   21    6   \n",
       "4     63  2017-02-05             1                8           8   36    0   \n",
       "\n",
       "   holiday    precip    temper  longit  latit  \\\n",
       "0    False  0.235353   7.42724      15    369   \n",
       "1    False  0.585078   9.28602      15    369   \n",
       "2    False  0.474744  10.80520      15    369   \n",
       "3    False  0.000000   3.64525      15    370   \n",
       "4    False  0.235353   7.41745      15    370   \n",
       "\n",
       "                                                geom   urlnr  aves2012_2016  \\\n",
       "0  010300002040710000010000000500000000000000004C...  630184             13   \n",
       "1  010300002040710000010000000500000000000000004C...  630184             13   \n",
       "2  010300002040710000010000000500000000000000004C...  630184             13   \n",
       "3  010300002040710000010000000500000000000000004C...  630185             66   \n",
       "4  010300002040710000010000000500000000000000004C...  630185             66   \n",
       "\n",
       "   pop001  roads_nowater_length      ndvi  \n",
       "0      30           1844.323239  0.417693  \n",
       "1      30           1844.323239  0.417693  \n",
       "2      30           1844.323239  0.417693  \n",
       "3    1700          12193.064129  0.482932  \n",
       "4    1700          12193.064129  0.482932  "
      ]
     },
     "execution_count": 23,
     "metadata": {},
     "output_type": "execute_result"
    }
   ],
   "source": [
    "df2017stall = pd.merge(df2017standst, dfspatialall, on = 'block')\n",
    "df2017stall.head()"
   ]
  },
  {
   "cell_type": "code",
   "execution_count": 24,
   "id": "8044c69b-3a42-49eb-86ed-ad8a94126e70",
   "metadata": {},
   "outputs": [
    {
     "data": {
      "text/plain": [
       "(492282, 18)"
      ]
     },
     "execution_count": 24,
     "metadata": {},
     "output_type": "execute_result"
    }
   ],
   "source": [
    "df2017stall.shape"
   ]
  },
  {
   "cell_type": "code",
   "execution_count": 59,
   "id": "fa0b4048-842f-4981-bbc8-696133f5fd1b",
   "metadata": {},
   "outputs": [],
   "source": [
    "# Save the prepared dataset to csv in crib\n",
    "df2017stall.to_csv(dataout_path + '2017stall.csv')"
   ]
  },
  {
   "cell_type": "code",
   "execution_count": 33,
   "id": "9835d700-2ee4-4531-8173-638daad8676f",
   "metadata": {},
   "outputs": [
    {
     "data": {
      "text/plain": [
       "282"
      ]
     },
     "execution_count": 33,
     "metadata": {},
     "output_type": "execute_result"
    }
   ],
   "source": [
    "# Save the prepared dataset to database\n",
    "df2017stall.to_sql('2017stall', engine)"
   ]
  },
  {
   "cell_type": "code",
   "execution_count": 31,
   "id": "40b60a24-0194-4185-bd9d-ae2465c974be",
   "metadata": {},
   "outputs": [
    {
     "data": {
      "text/plain": [
       "array([[<AxesSubplot: title={'center': 'nb_observers'}>,\n",
       "        <AxesSubplot: title={'center': 'precip'}>],\n",
       "       [<AxesSubplot: title={'center': 'temper'}>,\n",
       "        <AxesSubplot: title={'center': 'pop001'}>],\n",
       "       [<AxesSubplot: title={'center': 'roads_nowater_length'}>,\n",
       "        <AxesSubplot: title={'center': 'ndvi'}>]], dtype=object)"
      ]
     },
     "execution_count": 31,
     "metadata": {},
     "output_type": "execute_result"
    },
    {
     "data": {
      "image/png": "[encoded data removed]",
      "text/plain": [
       "<Figure size 1400x1000 with 6 Axes>"
      ]
     },
     "metadata": {},
     "output_type": "display_data"
    }
   ],
   "source": [
    "# \n",
    "df2017stall.hist(column=['nb_observers', 'precip', 'temper', 'pop001', 'roads_nowater_length', 'ndvi'],bins=10, figsize=(14, 10))"
   ]
  },
  {
   "cell_type": "code",
   "execution_count": null,
   "id": "990ac45a-968c-49d8-8cc2-d5b6e5c4eadd",
   "metadata": {},
   "outputs": [],
   "source": []
  }
 ],
 "metadata": {
  "kernelspec": {
   "display_name": "Python",
   "language": "python",
   "name": "python3"
  },
  "language_info": {
   "codemirror_mode": {
    "name": "ipython",
    "version": 3
   },
   "file_extension": ".py",
   "mimetype": "text/x-python",
   "name": "python",
   "nbconvert_exporter": "python",
   "pygments_lexer": "ipython3",
   "version": "3.8.10"
  }
 },
 "nbformat": 4,
 "nbformat_minor": 5
}
