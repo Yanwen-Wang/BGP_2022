{
 "cells": [
  {
   "cell_type": "markdown",
   "id": "41dc0c9c-80a0-421f-affe-e141b67b88ce",
   "metadata": {},
   "source": [
    "Read blocks information from block.csv"
   ]
  },
  {
   "cell_type": "code",
   "execution_count": 8,
   "id": "1ef94539-5f3e-40ad-aa79-4f3f2a3c945c",
   "metadata": {},
   "outputs": [],
   "source": [
    "import csv\n",
    "import numpy as np\n",
    "\n",
    "block_csv = csv.reader(open(\"block.csv\"))\n",
    "block_data = np.array(list(block_csv))\n",
    "block_data = (block_data[1:,:4]).astype(np.int32)"
   ]
  },
  {
   "cell_type": "code",
   "execution_count": 9,
   "id": "8919b3a3-ce6e-4b61-b74f-b4d83f67a97d",
   "metadata": {},
   "outputs": [
    {
     "data": {
      "text/plain": [
       "array([  135, 44739,   201,   305], dtype=int32)"
      ]
     },
     "execution_count": 9,
     "metadata": {},
     "output_type": "execute_result"
    }
   ],
   "source": [
    "block_data[0,:]"
   ]
  },
  {
   "cell_type": "markdown",
   "id": "8ee9c738-6891-460c-a99a-f2466bad2b1f",
   "metadata": {},
   "source": [
    "Set the geotransform"
   ]
  },
  {
   "cell_type": "code",
   "execution_count": 13,
   "id": "5cffd29a-8783-40bd-a300-323142866b99",
   "metadata": {},
   "outputs": [],
   "source": [
    "left = np.min(block_data[:, 2])*1000\n",
    "top = (np.max(block_data[:, 3]) + 1)*1000\n",
    "tif_geotrans = [left, 1000, 0, top, 0, -1000]"
   ]
  },
  {
   "cell_type": "code",
   "execution_count": 14,
   "id": "0c0edab3-1306-45d0-af54-ce5e04955e49",
   "metadata": {},
   "outputs": [
    {
     "data": {
      "text/plain": [
       "[9000, 1000, 0, 630000, 0, -1000]"
      ]
     },
     "execution_count": 14,
     "metadata": {},
     "output_type": "execute_result"
    }
   ],
   "source": [
    "tif_geotrans"
   ]
  },
  {
   "cell_type": "markdown",
   "id": "186c497d-eb3d-4fc9-a675-e4fdd7b982f7",
   "metadata": {},
   "source": [
    "Set the projection"
   ]
  },
  {
   "cell_type": "code",
   "execution_count": 12,
   "id": "691ae938-dd1a-468f-8c4c-136ee4afb443",
   "metadata": {},
   "outputs": [
    {
     "data": {
      "text/plain": [
       "0"
      ]
     },
     "execution_count": 12,
     "metadata": {},
     "output_type": "execute_result"
    }
   ],
   "source": [
    "from osgeo import gdal\n",
    "from osgeo import osr\n",
    "\n",
    "srs = osr.SpatialReference()            # establish encoding\n",
    "srs.ImportFromEPSG(28992)               # NL projection"
   ]
  },
  {
   "cell_type": "code",
   "execution_count": 25,
   "id": "9d5ac85a-ded1-4a33-bf31-9b5342dddba6",
   "metadata": {},
   "outputs": [],
   "source": [
    "row_num = np.max(block_data[:, 3]) - np.min(block_data[:, 3]) + 1\n",
    "lat_max = np.max(block_data[:, 3])\n",
    "col_num = np.max(block_data[:, 2]) - np.min(block_data[:, 2]) + 1\n",
    "lon_min = np.min(block_data[:, 2])"
   ]
  },
  {
   "cell_type": "code",
   "execution_count": 26,
   "id": "06972f42-3acb-46ee-8cef-e6a788d773c4",
   "metadata": {},
   "outputs": [
    {
     "data": {
      "text/plain": [
       "(325, 269, 629, 9)"
      ]
     },
     "execution_count": 26,
     "metadata": {},
     "output_type": "execute_result"
    }
   ],
   "source": [
    "row_num, col_num, lat_max, lon_min"
   ]
  },
  {
   "cell_type": "code",
   "execution_count": 27,
   "id": "94361022-c00f-47a2-84f7-89b1d6503d3e",
   "metadata": {},
   "outputs": [],
   "source": [
    "block_raster = np.zeros((row_num, col_num))\n",
    "for block_i in range(len(block_data)):\n",
    "    block_id = block_data[block_i, 1]\n",
    "    block_row = lat_max - block_data[block_i, 3]\n",
    "    block_col = block_data[block_i, 2] - lon_min\n",
    "    block_raster[block_row, block_col] = block_id"
   ]
  },
  {
   "cell_type": "code",
   "execution_count": 28,
   "id": "547c6107-0068-4536-843d-3d87aba3a9ca",
   "metadata": {},
   "outputs": [
    {
     "data": {
      "text/plain": [
       "(325, 269)"
      ]
     },
     "execution_count": 28,
     "metadata": {},
     "output_type": "execute_result"
    }
   ],
   "source": [
    "block_raster.shape"
   ]
  },
  {
   "cell_type": "markdown",
   "id": "dc7983dd-cb8e-450e-854c-628a6f61ed09",
   "metadata": {},
   "source": [
    "Save tiff file."
   ]
  },
  {
   "cell_type": "code",
   "execution_count": 31,
   "id": "0434900a-fd7c-4fec-9fe0-3b87c1550075",
   "metadata": {},
   "outputs": [],
   "source": [
    "block_raster_filename = '0_data/block_raster.tif'\n",
    "# create the 3-band raster file\n",
    "blk_ds = gdal.GetDriverByName('GTiff').Create(block_raster_filename, int(col_num), int(row_num), 1, gdal.GDT_Int32)\n",
    "\n",
    "blk_ds.SetGeoTransform(tif_geotrans)    # specify coords\n",
    "blk_ds.SetProjection(srs.ExportToWkt()) # export coords to file\n",
    "blk_ds.GetRasterBand(1).WriteArray(block_raster)   # write data to the raster\n",
    "blk_ds.FlushCache()                     # write to disk\n",
    "blk_ds = None"
   ]
  },
  {
   "cell_type": "code",
   "execution_count": null,
   "id": "9f612eb5-d014-4ade-a8e7-51155de38a48",
   "metadata": {},
   "outputs": [],
   "source": []
  }
 ],
 "metadata": {
  "kernelspec": {
   "display_name": "Python",
   "language": "python",
   "name": "python3"
  },
  "language_info": {
   "codemirror_mode": {
    "name": "ipython",
    "version": 3
   },
   "file_extension": ".py",
   "mimetype": "text/x-python",
   "name": "python",
   "nbconvert_exporter": "python",
   "pygments_lexer": "ipython3",
   "version": "3.8.10"
  }
 },
 "nbformat": 4,
 "nbformat_minor": 5
}
