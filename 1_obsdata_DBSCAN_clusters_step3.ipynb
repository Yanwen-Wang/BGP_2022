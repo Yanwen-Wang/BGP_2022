{
 "cells": [
  {
   "cell_type": "code",
   "execution_count": 1,
   "id": "e2b11be8-ab69-426e-8bed-dc9ce9c632e8",
   "metadata": {},
   "outputs": [],
   "source": [
    "from osgeo import gdal\n",
    "import numpy as np\n",
    "from sklearn.cluster import DBSCAN\n",
    "\n",
    "data_path = '0_data/'\n",
    "\n",
    "\n",
    "obs_outliers = gdal.Open(data_path + 'obs_outliers_denoise.tif')\n",
    "obs_outliers_band = obs_outliers.GetRasterBand(1)\n",
    "obs_outliers_data = obs_outliers.ReadAsArray()\n",
    "row_length = obs_outliers.RasterYSize\n",
    "col_length = obs_outliers.RasterXSize\n",
    "tif_geotrans = obs_outliers.GetGeoTransform()\n",
    "tif_proj = obs_outliers.GetProjection()\n",
    "\n",
    "obs_out = []\n",
    "for row in range(row_length):\n",
    "    for col in range(col_length):\n",
    "        obs_outif = obs_outliers_data[row, col]\n",
    "        if obs_outif > 0:\n",
    "            obs_out.append([row, col])\n",
    "\n",
    "obs_out = np.array(obs_out)"
   ]
  },
  {
   "cell_type": "code",
   "execution_count": 2,
   "id": "2b493d2b-8ccb-4fdd-a4d3-5f501b35393b",
   "metadata": {},
   "outputs": [],
   "source": [
    "eps = 4.4 * 2\n",
    "min_samples = 35\n",
    "\n",
    "clusters = DBSCAN(eps=eps, min_samples=min_samples).fit(obs_out)\n",
    "obs_out_clusters = np.zeros((row_length, col_length))\n",
    "for cluster_i in range(len(clusters.labels_)):\n",
    "    cluster_id = clusters.labels_[cluster_i] + 1\n",
    "    row = obs_out[cluster_i, 0]\n",
    "    col = obs_out[cluster_i, 1]\n",
    "    obs_out_clusters[row, col] = cluster_id\n",
    "    "
   ]
  },
  {
   "cell_type": "code",
   "execution_count": 3,
   "id": "06a198b5-121c-4a0f-9c5b-35deec756f82",
   "metadata": {},
   "outputs": [],
   "source": [
    "# Save to tif\n",
    "driver = gdal.GetDriverByName('GTiff')\n",
    "obs_out_clusters_dataset = driver.Create(data_path + 'obs_clusters.tif', col_length, row_length, 1, gdal.GDT_Int32)\n",
    "obs_out_clusters_dataset.SetGeoTransform(tif_geotrans)\n",
    "obs_out_clusters_dataset.SetProjection(tif_proj)\n",
    "obs_out_clusters_dataset.GetRasterBand(1).WriteArray(obs_out_clusters)\n",
    "# Save finish.\n",
    "del obs_out_clusters_dataset"
   ]
  },
  {
   "cell_type": "code",
   "execution_count": null,
   "id": "51a54efb-3d64-4451-854f-a3ded7049089",
   "metadata": {},
   "outputs": [],
   "source": []
  }
 ],
 "metadata": {
  "kernelspec": {
   "display_name": "Python",
   "language": "python",
   "name": "python3"
  },
  "language_info": {
   "codemirror_mode": {
    "name": "ipython",
    "version": 3
   },
   "file_extension": ".py",
   "mimetype": "text/x-python",
   "name": "python",
   "nbconvert_exporter": "python",
   "pygments_lexer": "ipython3",
   "version": "3.8.10"
  }
 },
 "nbformat": 4,
 "nbformat_minor": 5
}
