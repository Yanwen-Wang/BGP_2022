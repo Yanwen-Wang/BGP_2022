{
 "cells": [
  {
   "cell_type": "markdown",
   "id": "b8f918f4-49c0-46a7-8d75-d64303c20ef4",
   "metadata": {
    "tags": []
   },
   "source": [
    "# Machine learning model to predict observer intensity using DASK\n",
    "\n",
    "Here we need a model to predict observer intensity of developing regions.\n",
    "- First we train a machine learning model on developed regions dataset and test the model within this dataset using DASK library for Random forest and MLP algorithms. \n",
    "- Then we choose the model with better function and tune the the hyperparameters of the model to reach the best model\n",
    "- Finally we apply our model on developing regions to predict the potential regions for observers."
   ]
  },
  {
   "cell_type": "markdown",
   "id": "e7e57169-3c20-4dc1-97c9-a88215f826de",
   "metadata": {},
   "source": [
    "## 1. Train a regression model using DASK on Developed regions dataset"
   ]
  },
  {
   "cell_type": "code",
   "execution_count": 1,
   "id": "3cf4be9a-794f-425f-8104-3febd272f8b8",
   "metadata": {},
   "outputs": [],
   "source": [
    "import pandas as pd\n",
    "import numpy as np\n",
    "import matplotlib.pyplot as plt"
   ]
  },
  {
   "cell_type": "code",
   "execution_count": 2,
   "id": "54feb741-20ef-4a1e-a70b-536ba50a93bb",
   "metadata": {},
   "outputs": [
    {
     "data": {
      "text/html": [
       "<div>\n",
       "<style scoped>\n",
       "    .dataframe tbody tr th:only-of-type {\n",
       "        vertical-align: middle;\n",
       "    }\n",
       "\n",
       "    .dataframe tbody tr th {\n",
       "        vertical-align: top;\n",
       "    }\n",
       "\n",
       "    .dataframe thead th {\n",
       "        text-align: right;\n",
       "    }\n",
       "</style>\n",
       "<table border=\"1\" class=\"dataframe\">\n",
       "  <thead>\n",
       "    <tr style=\"text-align: right;\">\n",
       "      <th></th>\n",
       "      <th>Unnamed: 0</th>\n",
       "      <th>block</th>\n",
       "      <th>obsdate</th>\n",
       "      <th>nb_observers</th>\n",
       "      <th>nb_observations</th>\n",
       "      <th>nb_species</th>\n",
       "      <th>doy</th>\n",
       "      <th>dow</th>\n",
       "      <th>holiday</th>\n",
       "      <th>precip</th>\n",
       "      <th>temper</th>\n",
       "      <th>longit</th>\n",
       "      <th>latit</th>\n",
       "      <th>geom</th>\n",
       "      <th>urlnr</th>\n",
       "      <th>aves2012_2016</th>\n",
       "      <th>pop001</th>\n",
       "      <th>roads_nowater_length</th>\n",
       "      <th>ndvi</th>\n",
       "    </tr>\n",
       "  </thead>\n",
       "  <tbody>\n",
       "    <tr>\n",
       "      <th>0</th>\n",
       "      <td>11385</td>\n",
       "      <td>1354</td>\n",
       "      <td>2017-01-01</td>\n",
       "      <td>3</td>\n",
       "      <td>9</td>\n",
       "      <td>6</td>\n",
       "      <td>1</td>\n",
       "      <td>0</td>\n",
       "      <td>True</td>\n",
       "      <td>5.057450</td>\n",
       "      <td>1.93304</td>\n",
       "      <td>42</td>\n",
       "      <td>411</td>\n",
       "      <td>0103000020407100000100000005000000000000000082...</td>\n",
       "      <td>631501</td>\n",
       "      <td>160</td>\n",
       "      <td>5</td>\n",
       "      <td>645.26066</td>\n",
       "      <td>0.607853</td>\n",
       "    </tr>\n",
       "    <tr>\n",
       "      <th>1</th>\n",
       "      <td>11386</td>\n",
       "      <td>1354</td>\n",
       "      <td>2017-01-02</td>\n",
       "      <td>3</td>\n",
       "      <td>28</td>\n",
       "      <td>18</td>\n",
       "      <td>2</td>\n",
       "      <td>1</td>\n",
       "      <td>False</td>\n",
       "      <td>1.317730</td>\n",
       "      <td>6.99588</td>\n",
       "      <td>42</td>\n",
       "      <td>411</td>\n",
       "      <td>0103000020407100000100000005000000000000000082...</td>\n",
       "      <td>631501</td>\n",
       "      <td>160</td>\n",
       "      <td>5</td>\n",
       "      <td>645.26066</td>\n",
       "      <td>0.607853</td>\n",
       "    </tr>\n",
       "    <tr>\n",
       "      <th>2</th>\n",
       "      <td>11387</td>\n",
       "      <td>1354</td>\n",
       "      <td>2017-01-03</td>\n",
       "      <td>5</td>\n",
       "      <td>7</td>\n",
       "      <td>3</td>\n",
       "      <td>3</td>\n",
       "      <td>2</td>\n",
       "      <td>False</td>\n",
       "      <td>1.411040</td>\n",
       "      <td>6.53653</td>\n",
       "      <td>42</td>\n",
       "      <td>411</td>\n",
       "      <td>0103000020407100000100000005000000000000000082...</td>\n",
       "      <td>631501</td>\n",
       "      <td>160</td>\n",
       "      <td>5</td>\n",
       "      <td>645.26066</td>\n",
       "      <td>0.607853</td>\n",
       "    </tr>\n",
       "    <tr>\n",
       "      <th>3</th>\n",
       "      <td>11388</td>\n",
       "      <td>1354</td>\n",
       "      <td>2017-01-04</td>\n",
       "      <td>4</td>\n",
       "      <td>6</td>\n",
       "      <td>5</td>\n",
       "      <td>4</td>\n",
       "      <td>3</td>\n",
       "      <td>False</td>\n",
       "      <td>1.176680</td>\n",
       "      <td>7.64293</td>\n",
       "      <td>42</td>\n",
       "      <td>411</td>\n",
       "      <td>0103000020407100000100000005000000000000000082...</td>\n",
       "      <td>631501</td>\n",
       "      <td>160</td>\n",
       "      <td>5</td>\n",
       "      <td>645.26066</td>\n",
       "      <td>0.607853</td>\n",
       "    </tr>\n",
       "    <tr>\n",
       "      <th>4</th>\n",
       "      <td>11389</td>\n",
       "      <td>1354</td>\n",
       "      <td>2017-01-05</td>\n",
       "      <td>12</td>\n",
       "      <td>55</td>\n",
       "      <td>14</td>\n",
       "      <td>5</td>\n",
       "      <td>4</td>\n",
       "      <td>False</td>\n",
       "      <td>0.000000</td>\n",
       "      <td>5.13298</td>\n",
       "      <td>42</td>\n",
       "      <td>411</td>\n",
       "      <td>0103000020407100000100000005000000000000000082...</td>\n",
       "      <td>631501</td>\n",
       "      <td>160</td>\n",
       "      <td>5</td>\n",
       "      <td>645.26066</td>\n",
       "      <td>0.607853</td>\n",
       "    </tr>\n",
       "    <tr>\n",
       "      <th>...</th>\n",
       "      <td>...</td>\n",
       "      <td>...</td>\n",
       "      <td>...</td>\n",
       "      <td>...</td>\n",
       "      <td>...</td>\n",
       "      <td>...</td>\n",
       "      <td>...</td>\n",
       "      <td>...</td>\n",
       "      <td>...</td>\n",
       "      <td>...</td>\n",
       "      <td>...</td>\n",
       "      <td>...</td>\n",
       "      <td>...</td>\n",
       "      <td>...</td>\n",
       "      <td>...</td>\n",
       "      <td>...</td>\n",
       "      <td>...</td>\n",
       "      <td>...</td>\n",
       "      <td>...</td>\n",
       "    </tr>\n",
       "    <tr>\n",
       "      <th>89919</th>\n",
       "      <td>445879</td>\n",
       "      <td>39652</td>\n",
       "      <td>2017-06-08</td>\n",
       "      <td>1</td>\n",
       "      <td>5</td>\n",
       "      <td>5</td>\n",
       "      <td>159</td>\n",
       "      <td>4</td>\n",
       "      <td>False</td>\n",
       "      <td>0.569949</td>\n",
       "      <td>21.20340</td>\n",
       "      <td>243</td>\n",
       "      <td>574</td>\n",
       "      <td>010300002040710000010000000500000000000000C0A9...</td>\n",
       "      <td>39652</td>\n",
       "      <td>144</td>\n",
       "      <td>410</td>\n",
       "      <td>4831.28738</td>\n",
       "      <td>0.494527</td>\n",
       "    </tr>\n",
       "    <tr>\n",
       "      <th>89920</th>\n",
       "      <td>445880</td>\n",
       "      <td>39652</td>\n",
       "      <td>2017-06-10</td>\n",
       "      <td>2</td>\n",
       "      <td>6</td>\n",
       "      <td>3</td>\n",
       "      <td>161</td>\n",
       "      <td>6</td>\n",
       "      <td>False</td>\n",
       "      <td>0.000000</td>\n",
       "      <td>21.89960</td>\n",
       "      <td>243</td>\n",
       "      <td>574</td>\n",
       "      <td>010300002040710000010000000500000000000000C0A9...</td>\n",
       "      <td>39652</td>\n",
       "      <td>144</td>\n",
       "      <td>410</td>\n",
       "      <td>4831.28738</td>\n",
       "      <td>0.494527</td>\n",
       "    </tr>\n",
       "    <tr>\n",
       "      <th>89921</th>\n",
       "      <td>445881</td>\n",
       "      <td>39652</td>\n",
       "      <td>2017-06-14</td>\n",
       "      <td>1</td>\n",
       "      <td>3</td>\n",
       "      <td>2</td>\n",
       "      <td>165</td>\n",
       "      <td>3</td>\n",
       "      <td>False</td>\n",
       "      <td>0.000000</td>\n",
       "      <td>22.82750</td>\n",
       "      <td>243</td>\n",
       "      <td>574</td>\n",
       "      <td>010300002040710000010000000500000000000000C0A9...</td>\n",
       "      <td>39652</td>\n",
       "      <td>144</td>\n",
       "      <td>410</td>\n",
       "      <td>4831.28738</td>\n",
       "      <td>0.494527</td>\n",
       "    </tr>\n",
       "    <tr>\n",
       "      <th>89922</th>\n",
       "      <td>445882</td>\n",
       "      <td>39652</td>\n",
       "      <td>2017-06-20</td>\n",
       "      <td>1</td>\n",
       "      <td>7</td>\n",
       "      <td>7</td>\n",
       "      <td>171</td>\n",
       "      <td>2</td>\n",
       "      <td>False</td>\n",
       "      <td>0.000000</td>\n",
       "      <td>20.77310</td>\n",
       "      <td>243</td>\n",
       "      <td>574</td>\n",
       "      <td>010300002040710000010000000500000000000000C0A9...</td>\n",
       "      <td>39652</td>\n",
       "      <td>144</td>\n",
       "      <td>410</td>\n",
       "      <td>4831.28738</td>\n",
       "      <td>0.494527</td>\n",
       "    </tr>\n",
       "    <tr>\n",
       "      <th>89923</th>\n",
       "      <td>445883</td>\n",
       "      <td>39652</td>\n",
       "      <td>2017-06-22</td>\n",
       "      <td>1</td>\n",
       "      <td>1</td>\n",
       "      <td>1</td>\n",
       "      <td>173</td>\n",
       "      <td>4</td>\n",
       "      <td>False</td>\n",
       "      <td>0.654208</td>\n",
       "      <td>29.94590</td>\n",
       "      <td>243</td>\n",
       "      <td>574</td>\n",
       "      <td>010300002040710000010000000500000000000000C0A9...</td>\n",
       "      <td>39652</td>\n",
       "      <td>144</td>\n",
       "      <td>410</td>\n",
       "      <td>4831.28738</td>\n",
       "      <td>0.494527</td>\n",
       "    </tr>\n",
       "  </tbody>\n",
       "</table>\n",
       "<p>89924 rows × 19 columns</p>\n",
       "</div>"
      ],
      "text/plain": [
       "       Unnamed: 0  block     obsdate  nb_observers  nb_observations  \\\n",
       "0           11385   1354  2017-01-01             3                9   \n",
       "1           11386   1354  2017-01-02             3               28   \n",
       "2           11387   1354  2017-01-03             5                7   \n",
       "3           11388   1354  2017-01-04             4                6   \n",
       "4           11389   1354  2017-01-05            12               55   \n",
       "...           ...    ...         ...           ...              ...   \n",
       "89919      445879  39652  2017-06-08             1                5   \n",
       "89920      445880  39652  2017-06-10             2                6   \n",
       "89921      445881  39652  2017-06-14             1                3   \n",
       "89922      445882  39652  2017-06-20             1                7   \n",
       "89923      445883  39652  2017-06-22             1                1   \n",
       "\n",
       "       nb_species  doy  dow  holiday    precip    temper  longit  latit  \\\n",
       "0               6    1    0     True  5.057450   1.93304      42    411   \n",
       "1              18    2    1    False  1.317730   6.99588      42    411   \n",
       "2               3    3    2    False  1.411040   6.53653      42    411   \n",
       "3               5    4    3    False  1.176680   7.64293      42    411   \n",
       "4              14    5    4    False  0.000000   5.13298      42    411   \n",
       "...           ...  ...  ...      ...       ...       ...     ...    ...   \n",
       "89919           5  159    4    False  0.569949  21.20340     243    574   \n",
       "89920           3  161    6    False  0.000000  21.89960     243    574   \n",
       "89921           2  165    3    False  0.000000  22.82750     243    574   \n",
       "89922           7  171    2    False  0.000000  20.77310     243    574   \n",
       "89923           1  173    4    False  0.654208  29.94590     243    574   \n",
       "\n",
       "                                                    geom   urlnr  \\\n",
       "0      0103000020407100000100000005000000000000000082...  631501   \n",
       "1      0103000020407100000100000005000000000000000082...  631501   \n",
       "2      0103000020407100000100000005000000000000000082...  631501   \n",
       "3      0103000020407100000100000005000000000000000082...  631501   \n",
       "4      0103000020407100000100000005000000000000000082...  631501   \n",
       "...                                                  ...     ...   \n",
       "89919  010300002040710000010000000500000000000000C0A9...   39652   \n",
       "89920  010300002040710000010000000500000000000000C0A9...   39652   \n",
       "89921  010300002040710000010000000500000000000000C0A9...   39652   \n",
       "89922  010300002040710000010000000500000000000000C0A9...   39652   \n",
       "89923  010300002040710000010000000500000000000000C0A9...   39652   \n",
       "\n",
       "       aves2012_2016  pop001  roads_nowater_length      ndvi  \n",
       "0                160       5             645.26066  0.607853  \n",
       "1                160       5             645.26066  0.607853  \n",
       "2                160       5             645.26066  0.607853  \n",
       "3                160       5             645.26066  0.607853  \n",
       "4                160       5             645.26066  0.607853  \n",
       "...              ...     ...                   ...       ...  \n",
       "89919            144     410            4831.28738  0.494527  \n",
       "89920            144     410            4831.28738  0.494527  \n",
       "89921            144     410            4831.28738  0.494527  \n",
       "89922            144     410            4831.28738  0.494527  \n",
       "89923            144     410            4831.28738  0.494527  \n",
       "\n",
       "[89924 rows x 19 columns]"
      ]
     },
     "execution_count": 2,
     "metadata": {},
     "output_type": "execute_result"
    }
   ],
   "source": [
    "# Read developed regions dataset from crib using pandas \n",
    "df = pd.read_csv('0_data/developed_2017stall.csv')\n",
    "df"
   ]
  },
  {
   "cell_type": "markdown",
   "id": "8124851c-77cc-42ae-bf47-aab390570fc1",
   "metadata": {},
   "source": [
    "### Normalize data\n",
    "There are different units and scales in the variables of the dataset. To get more precise result for modelling, we normalize the variables with different units. "
   ]
  },
  {
   "cell_type": "code",
   "execution_count": 3,
   "id": "fd223893-dc92-4678-a391-237327890842",
   "metadata": {},
   "outputs": [
    {
     "data": {
      "text/html": [
       "<div>\n",
       "<style scoped>\n",
       "    .dataframe tbody tr th:only-of-type {\n",
       "        vertical-align: middle;\n",
       "    }\n",
       "\n",
       "    .dataframe tbody tr th {\n",
       "        vertical-align: top;\n",
       "    }\n",
       "\n",
       "    .dataframe thead th {\n",
       "        text-align: right;\n",
       "    }\n",
       "</style>\n",
       "<table border=\"1\" class=\"dataframe\">\n",
       "  <thead>\n",
       "    <tr style=\"text-align: right;\">\n",
       "      <th></th>\n",
       "      <th>Unnamed: 0</th>\n",
       "      <th>block</th>\n",
       "      <th>obsdate</th>\n",
       "      <th>nb_observers</th>\n",
       "      <th>nb_observations</th>\n",
       "      <th>nb_species</th>\n",
       "      <th>doy</th>\n",
       "      <th>dow</th>\n",
       "      <th>holiday</th>\n",
       "      <th>precip</th>\n",
       "      <th>temper</th>\n",
       "      <th>longit</th>\n",
       "      <th>latit</th>\n",
       "      <th>geom</th>\n",
       "      <th>urlnr</th>\n",
       "      <th>aves2012_2016</th>\n",
       "      <th>pop001</th>\n",
       "      <th>roads_nowater_length</th>\n",
       "      <th>ndvi</th>\n",
       "    </tr>\n",
       "  </thead>\n",
       "  <tbody>\n",
       "    <tr>\n",
       "      <th>0</th>\n",
       "      <td>-0.334375</td>\n",
       "      <td>1354</td>\n",
       "      <td>2017-01-01</td>\n",
       "      <td>3</td>\n",
       "      <td>9</td>\n",
       "      <td>6</td>\n",
       "      <td>1</td>\n",
       "      <td>0</td>\n",
       "      <td>True</td>\n",
       "      <td>0.104766</td>\n",
       "      <td>-0.315760</td>\n",
       "      <td>42</td>\n",
       "      <td>411</td>\n",
       "      <td>0103000020407100000100000005000000000000000082...</td>\n",
       "      <td>631501</td>\n",
       "      <td>0.180758</td>\n",
       "      <td>-0.066225</td>\n",
       "      <td>-0.18647</td>\n",
       "      <td>0.181382</td>\n",
       "    </tr>\n",
       "    <tr>\n",
       "      <th>1</th>\n",
       "      <td>-0.334373</td>\n",
       "      <td>1354</td>\n",
       "      <td>2017-01-02</td>\n",
       "      <td>3</td>\n",
       "      <td>28</td>\n",
       "      <td>18</td>\n",
       "      <td>2</td>\n",
       "      <td>1</td>\n",
       "      <td>False</td>\n",
       "      <td>-0.006017</td>\n",
       "      <td>-0.172159</td>\n",
       "      <td>42</td>\n",
       "      <td>411</td>\n",
       "      <td>0103000020407100000100000005000000000000000082...</td>\n",
       "      <td>631501</td>\n",
       "      <td>0.180758</td>\n",
       "      <td>-0.066225</td>\n",
       "      <td>-0.18647</td>\n",
       "      <td>0.181382</td>\n",
       "    </tr>\n",
       "    <tr>\n",
       "      <th>2</th>\n",
       "      <td>-0.334371</td>\n",
       "      <td>1354</td>\n",
       "      <td>2017-01-03</td>\n",
       "      <td>5</td>\n",
       "      <td>7</td>\n",
       "      <td>3</td>\n",
       "      <td>3</td>\n",
       "      <td>2</td>\n",
       "      <td>False</td>\n",
       "      <td>-0.003253</td>\n",
       "      <td>-0.185188</td>\n",
       "      <td>42</td>\n",
       "      <td>411</td>\n",
       "      <td>0103000020407100000100000005000000000000000082...</td>\n",
       "      <td>631501</td>\n",
       "      <td>0.180758</td>\n",
       "      <td>-0.066225</td>\n",
       "      <td>-0.18647</td>\n",
       "      <td>0.181382</td>\n",
       "    </tr>\n",
       "    <tr>\n",
       "      <th>3</th>\n",
       "      <td>-0.334368</td>\n",
       "      <td>1354</td>\n",
       "      <td>2017-01-04</td>\n",
       "      <td>4</td>\n",
       "      <td>6</td>\n",
       "      <td>5</td>\n",
       "      <td>4</td>\n",
       "      <td>3</td>\n",
       "      <td>False</td>\n",
       "      <td>-0.010196</td>\n",
       "      <td>-0.153806</td>\n",
       "      <td>42</td>\n",
       "      <td>411</td>\n",
       "      <td>0103000020407100000100000005000000000000000082...</td>\n",
       "      <td>631501</td>\n",
       "      <td>0.180758</td>\n",
       "      <td>-0.066225</td>\n",
       "      <td>-0.18647</td>\n",
       "      <td>0.181382</td>\n",
       "    </tr>\n",
       "    <tr>\n",
       "      <th>4</th>\n",
       "      <td>-0.334366</td>\n",
       "      <td>1354</td>\n",
       "      <td>2017-01-05</td>\n",
       "      <td>12</td>\n",
       "      <td>55</td>\n",
       "      <td>14</td>\n",
       "      <td>5</td>\n",
       "      <td>4</td>\n",
       "      <td>False</td>\n",
       "      <td>-0.045053</td>\n",
       "      <td>-0.224998</td>\n",
       "      <td>42</td>\n",
       "      <td>411</td>\n",
       "      <td>0103000020407100000100000005000000000000000082...</td>\n",
       "      <td>631501</td>\n",
       "      <td>0.180758</td>\n",
       "      <td>-0.066225</td>\n",
       "      <td>-0.18647</td>\n",
       "      <td>0.181382</td>\n",
       "    </tr>\n",
       "  </tbody>\n",
       "</table>\n",
       "</div>"
      ],
      "text/plain": [
       "   Unnamed: 0  block     obsdate  nb_observers  nb_observations  nb_species  \\\n",
       "0   -0.334375   1354  2017-01-01             3                9           6   \n",
       "1   -0.334373   1354  2017-01-02             3               28          18   \n",
       "2   -0.334371   1354  2017-01-03             5                7           3   \n",
       "3   -0.334368   1354  2017-01-04             4                6           5   \n",
       "4   -0.334366   1354  2017-01-05            12               55          14   \n",
       "\n",
       "   doy  dow  holiday    precip    temper  longit  latit  \\\n",
       "0    1    0     True  0.104766 -0.315760      42    411   \n",
       "1    2    1    False -0.006017 -0.172159      42    411   \n",
       "2    3    2    False -0.003253 -0.185188      42    411   \n",
       "3    4    3    False -0.010196 -0.153806      42    411   \n",
       "4    5    4    False -0.045053 -0.224998      42    411   \n",
       "\n",
       "                                                geom   urlnr  aves2012_2016  \\\n",
       "0  0103000020407100000100000005000000000000000082...  631501       0.180758   \n",
       "1  0103000020407100000100000005000000000000000082...  631501       0.180758   \n",
       "2  0103000020407100000100000005000000000000000082...  631501       0.180758   \n",
       "3  0103000020407100000100000005000000000000000082...  631501       0.180758   \n",
       "4  0103000020407100000100000005000000000000000082...  631501       0.180758   \n",
       "\n",
       "     pop001  roads_nowater_length      ndvi  \n",
       "0 -0.066225              -0.18647  0.181382  \n",
       "1 -0.066225              -0.18647  0.181382  \n",
       "2 -0.066225              -0.18647  0.181382  \n",
       "3 -0.066225              -0.18647  0.181382  \n",
       "4 -0.066225              -0.18647  0.181382  "
      ]
     },
     "execution_count": 3,
     "metadata": {},
     "output_type": "execute_result"
    }
   ],
   "source": [
    "dataset_norm = pd.DataFrame()\n",
    "for (colname, coldata) in df.iteritems():\n",
    "    if colname == 'block' \\\n",
    "    or colname == 'obsdate' \\\n",
    "    or colname == 'nb_observers' \\\n",
    "    or colname == 'nb_observations' \\\n",
    "    or colname == 'nb_species' \\\n",
    "    or colname == 'doy' \\\n",
    "    or colname == 'dow'\\\n",
    "    or colname == 'holiday'\\\n",
    "    or colname == 'longit'\\\n",
    "    or colname == 'latit'\\\n",
    "    or colname == 'geom'\\\n",
    "    or colname == 'urlnr':\n",
    "        dataset_norm[colname] = df[colname]\n",
    "    else:\n",
    "         dataset_norm[colname] = (df[colname] - df[colname].mean()) / (df[colname].max() - df[colname].min())\n",
    "dataset_norm.head()"
   ]
  },
  {
   "cell_type": "code",
   "execution_count": 4,
   "id": "4a55df53-cdaa-43fb-8616-8e317373cb71",
   "metadata": {},
   "outputs": [
    {
     "data": {
      "text/html": [
       "<div><strong>Dask DataFrame Structure:</strong></div>\n",
       "<div>\n",
       "<style scoped>\n",
       "    .dataframe tbody tr th:only-of-type {\n",
       "        vertical-align: middle;\n",
       "    }\n",
       "\n",
       "    .dataframe tbody tr th {\n",
       "        vertical-align: top;\n",
       "    }\n",
       "\n",
       "    .dataframe thead th {\n",
       "        text-align: right;\n",
       "    }\n",
       "</style>\n",
       "<table border=\"1\" class=\"dataframe\">\n",
       "  <thead>\n",
       "    <tr style=\"text-align: right;\">\n",
       "      <th></th>\n",
       "      <th>Unnamed: 0</th>\n",
       "      <th>block</th>\n",
       "      <th>obsdate</th>\n",
       "      <th>nb_observers</th>\n",
       "      <th>nb_observations</th>\n",
       "      <th>nb_species</th>\n",
       "      <th>doy</th>\n",
       "      <th>dow</th>\n",
       "      <th>holiday</th>\n",
       "      <th>precip</th>\n",
       "      <th>temper</th>\n",
       "      <th>longit</th>\n",
       "      <th>latit</th>\n",
       "      <th>geom</th>\n",
       "      <th>urlnr</th>\n",
       "      <th>aves2012_2016</th>\n",
       "      <th>pop001</th>\n",
       "      <th>roads_nowater_length</th>\n",
       "      <th>ndvi</th>\n",
       "    </tr>\n",
       "    <tr>\n",
       "      <th>npartitions=10</th>\n",
       "      <th></th>\n",
       "      <th></th>\n",
       "      <th></th>\n",
       "      <th></th>\n",
       "      <th></th>\n",
       "      <th></th>\n",
       "      <th></th>\n",
       "      <th></th>\n",
       "      <th></th>\n",
       "      <th></th>\n",
       "      <th></th>\n",
       "      <th></th>\n",
       "      <th></th>\n",
       "      <th></th>\n",
       "      <th></th>\n",
       "      <th></th>\n",
       "      <th></th>\n",
       "      <th></th>\n",
       "      <th></th>\n",
       "    </tr>\n",
       "  </thead>\n",
       "  <tbody>\n",
       "    <tr>\n",
       "      <th>0</th>\n",
       "      <td>float64</td>\n",
       "      <td>int64</td>\n",
       "      <td>object</td>\n",
       "      <td>int64</td>\n",
       "      <td>int64</td>\n",
       "      <td>int64</td>\n",
       "      <td>int64</td>\n",
       "      <td>int64</td>\n",
       "      <td>bool</td>\n",
       "      <td>float64</td>\n",
       "      <td>float64</td>\n",
       "      <td>int64</td>\n",
       "      <td>int64</td>\n",
       "      <td>object</td>\n",
       "      <td>int64</td>\n",
       "      <td>float64</td>\n",
       "      <td>float64</td>\n",
       "      <td>float64</td>\n",
       "      <td>float64</td>\n",
       "    </tr>\n",
       "    <tr>\n",
       "      <th>8993</th>\n",
       "      <td>...</td>\n",
       "      <td>...</td>\n",
       "      <td>...</td>\n",
       "      <td>...</td>\n",
       "      <td>...</td>\n",
       "      <td>...</td>\n",
       "      <td>...</td>\n",
       "      <td>...</td>\n",
       "      <td>...</td>\n",
       "      <td>...</td>\n",
       "      <td>...</td>\n",
       "      <td>...</td>\n",
       "      <td>...</td>\n",
       "      <td>...</td>\n",
       "      <td>...</td>\n",
       "      <td>...</td>\n",
       "      <td>...</td>\n",
       "      <td>...</td>\n",
       "      <td>...</td>\n",
       "    </tr>\n",
       "    <tr>\n",
       "      <th>...</th>\n",
       "      <td>...</td>\n",
       "      <td>...</td>\n",
       "      <td>...</td>\n",
       "      <td>...</td>\n",
       "      <td>...</td>\n",
       "      <td>...</td>\n",
       "      <td>...</td>\n",
       "      <td>...</td>\n",
       "      <td>...</td>\n",
       "      <td>...</td>\n",
       "      <td>...</td>\n",
       "      <td>...</td>\n",
       "      <td>...</td>\n",
       "      <td>...</td>\n",
       "      <td>...</td>\n",
       "      <td>...</td>\n",
       "      <td>...</td>\n",
       "      <td>...</td>\n",
       "      <td>...</td>\n",
       "    </tr>\n",
       "    <tr>\n",
       "      <th>80932</th>\n",
       "      <td>...</td>\n",
       "      <td>...</td>\n",
       "      <td>...</td>\n",
       "      <td>...</td>\n",
       "      <td>...</td>\n",
       "      <td>...</td>\n",
       "      <td>...</td>\n",
       "      <td>...</td>\n",
       "      <td>...</td>\n",
       "      <td>...</td>\n",
       "      <td>...</td>\n",
       "      <td>...</td>\n",
       "      <td>...</td>\n",
       "      <td>...</td>\n",
       "      <td>...</td>\n",
       "      <td>...</td>\n",
       "      <td>...</td>\n",
       "      <td>...</td>\n",
       "      <td>...</td>\n",
       "    </tr>\n",
       "    <tr>\n",
       "      <th>89923</th>\n",
       "      <td>...</td>\n",
       "      <td>...</td>\n",
       "      <td>...</td>\n",
       "      <td>...</td>\n",
       "      <td>...</td>\n",
       "      <td>...</td>\n",
       "      <td>...</td>\n",
       "      <td>...</td>\n",
       "      <td>...</td>\n",
       "      <td>...</td>\n",
       "      <td>...</td>\n",
       "      <td>...</td>\n",
       "      <td>...</td>\n",
       "      <td>...</td>\n",
       "      <td>...</td>\n",
       "      <td>...</td>\n",
       "      <td>...</td>\n",
       "      <td>...</td>\n",
       "      <td>...</td>\n",
       "    </tr>\n",
       "  </tbody>\n",
       "</table>\n",
       "</div>\n",
       "<div>Dask Name: from_pandas, 1 graph layer</div>"
      ],
      "text/plain": [
       "Dask DataFrame Structure:\n",
       "               Unnamed: 0  block obsdate nb_observers nb_observations nb_species    doy    dow holiday   precip   temper longit  latit    geom  urlnr aves2012_2016   pop001 roads_nowater_length     ndvi\n",
       "npartitions=10                                                                                                                                                                                            \n",
       "0                 float64  int64  object        int64           int64      int64  int64  int64    bool  float64  float64  int64  int64  object  int64       float64  float64              float64  float64\n",
       "8993                  ...    ...     ...          ...             ...        ...    ...    ...     ...      ...      ...    ...    ...     ...    ...           ...      ...                  ...      ...\n",
       "...                   ...    ...     ...          ...             ...        ...    ...    ...     ...      ...      ...    ...    ...     ...    ...           ...      ...                  ...      ...\n",
       "80932                 ...    ...     ...          ...             ...        ...    ...    ...     ...      ...      ...    ...    ...     ...    ...           ...      ...                  ...      ...\n",
       "89923                 ...    ...     ...          ...             ...        ...    ...    ...     ...      ...      ...    ...    ...     ...    ...           ...      ...                  ...      ...\n",
       "Dask Name: from_pandas, 1 graph layer"
      ]
     },
     "execution_count": 4,
     "metadata": {},
     "output_type": "execute_result"
    }
   ],
   "source": [
    "# Transform dataset to Dask dataframe to be used well in modelling large data with DASK library\n",
    "import dask.dataframe as dd\n",
    "dataset = dd.from_pandas(dataset_norm, npartitions=10)\n",
    "dataset "
   ]
  },
  {
   "cell_type": "code",
   "execution_count": 5,
   "id": "c0209232-5d77-4a82-8273-6e9c1c60cdac",
   "metadata": {},
   "outputs": [],
   "source": [
    "# Select independent variables from dataset for prediction model \n",
    "Predictors = ['precip', 'temper', 'roads_nowater_length', 'ndvi', 'longit', 'latit', 'pop001', 'doy', 'dow']"
   ]
  },
  {
   "cell_type": "markdown",
   "id": "c047dc3a-89b6-404a-8d93-22f1d6a529d1",
   "metadata": {},
   "source": [
    "### Implementing regression model using DASK"
   ]
  },
  {
   "cell_type": "code",
   "execution_count": 6,
   "id": "5651a248-3628-4c78-b032-7a76fe750cbf",
   "metadata": {},
   "outputs": [],
   "source": [
    "from dask.distributed import Client\n",
    "client = Client()"
   ]
  },
  {
   "cell_type": "code",
   "execution_count": 7,
   "id": "fbaa3607-9cc0-4a00-b77f-db56af6085d6",
   "metadata": {},
   "outputs": [],
   "source": [
    "# Define dependent variables(Y) and independent variables(X) for modelling developed dataset in DASK\n",
    "Y = dataset['nb_observers']\n",
    "X = dataset[Predictors]"
   ]
  },
  {
   "cell_type": "code",
   "execution_count": 8,
   "id": "c6f73bd4-0797-4749-a3c1-b927938d1b6e",
   "metadata": {},
   "outputs": [
    {
     "name": "stderr",
     "output_type": "stream",
     "text": [
      "/usr/local/lib/python3.8/dist-packages/dask_ml/model_selection/_split.py:462: FutureWarning: The default value for 'shuffle' must be specified when splitting DataFrames. In the future DataFrames will automatically be shuffled within blocks prior to splitting. Specify 'shuffle=True' to adopt the future behavior now, or 'shuffle=False' to retain the previous behavior.\n",
      "  warnings.warn(\n"
     ]
    }
   ],
   "source": [
    "# Split the dataset for training (70%) and testing (30%)\n",
    "import dask_ml.model_selection as ms\n",
    "Xtrain, Xtest, ytrain, ytest = ms.train_test_split(X, Y, test_size=0.3, random_state=42)"
   ]
  },
  {
   "cell_type": "code",
   "execution_count": 9,
   "id": "275d56b3-a014-4ef9-8865-f587b6ab81ef",
   "metadata": {},
   "outputs": [],
   "source": [
    "# Scale developed dataset and fit the scaler to training data and then transform both training and test data with the same fitted scaler\n",
    "import dask_ml.preprocessing as pr\n",
    "scaler = pr.StandardScaler()\n",
    "scaler.fit(Xtrain)\n",
    "\n",
    "Xtrain = scaler.transform(Xtrain)\n",
    "Xtest = scaler.transform(Xtest)"
   ]
  },
  {
   "cell_type": "code",
   "execution_count": 10,
   "id": "16cb050b-99da-46d0-a659-834585f8fc26",
   "metadata": {},
   "outputs": [],
   "source": [
    "from sklearn.ensemble import RandomForestRegressor\n",
    "from sklearn.neural_network import MLPRegressor\n",
    "from joblib import parallel_backend\n",
    "from sklearn.metrics import r2_score\n",
    "from sklearn.metrics import mean_squared_error\n",
    "from sklearn.metrics import mean_absolute_percentage_error"
   ]
  },
  {
   "cell_type": "code",
   "execution_count": 11,
   "id": "472c9978-8ab1-4892-9780-9ac6682f7071",
   "metadata": {},
   "outputs": [
    {
     "name": "stderr",
     "output_type": "stream",
     "text": [
      "/usr/local/lib/python3.8/dist-packages/sklearn/neural_network/_multilayer_perceptron.py:702: ConvergenceWarning: Stochastic Optimizer: Maximum iterations (200) reached and the optimization hasn't converged yet.\n",
      "  warnings.warn(\n"
     ]
    }
   ],
   "source": [
    "# Train the regressor using MLP algorithm\n",
    "mlp = MLPRegressor()\n",
    "\n",
    "with parallel_backend('dask'):\n",
    "    mlp.fit(Xtrain, ytrain)    # fit the model on the traning set\n",
    "    y_mlp = mlp.predict(Xtest) # Predict observer intensity on testing set\n",
    "\n"
   ]
  },
  {
   "cell_type": "code",
   "execution_count": 12,
   "id": "2603df61-a03a-4150-95b8-c511bb15797b",
   "metadata": {},
   "outputs": [],
   "source": [
    "# Train the regressor using Random forest algorithm\n",
    "rf = RandomForestRegressor(oob_score = True)\n",
    "\n",
    "with parallel_backend('dask'):\n",
    "    rf.fit(Xtrain, ytrain)\n",
    "    y_rf = rf.predict(Xtest)"
   ]
  },
  {
   "cell_type": "code",
   "execution_count": 13,
   "id": "bb9c3cb8-e5bd-463c-9d22-760a6bcf46da",
   "metadata": {},
   "outputs": [
    {
     "data": {
      "image/png": "[encoded data removed]",
      "text/plain": [
       "<Figure size 640x480 with 1 Axes>"
      ]
     },
     "metadata": {},
     "output_type": "display_data"
    }
   ],
   "source": [
    "# Visualize the predicted values from model and actual values from testing set\n",
    "plt.scatter(y_rf, ytest,c='b')\n",
    "plt.scatter(ytest, ytest,c='k')\n",
    "#plt.title('Scatter plot')\n",
    "plt.xlabel('Predicted Values')\n",
    "plt.ylabel('Actual Values')\n",
    "plt.show()"
   ]
  },
  {
   "cell_type": "code",
   "execution_count": 14,
   "id": "cad3b273-5808-4480-b3f0-f83456fc0a9d",
   "metadata": {},
   "outputs": [
    {
     "data": {
      "text/plain": [
       "0.12383440866613782"
      ]
     },
     "execution_count": 14,
     "metadata": {},
     "output_type": "execute_result"
    }
   ],
   "source": [
    "# Evaluate the default mlp Model by calculating R^2\n",
    "mlp.score(Xtest, ytest)"
   ]
  },
  {
   "cell_type": "code",
   "execution_count": 15,
   "id": "4726dc20-e41f-4a26-b68e-41befa36375d",
   "metadata": {},
   "outputs": [
    {
     "data": {
      "text/plain": [
       "0.3719487624776078"
      ]
     },
     "execution_count": 15,
     "metadata": {},
     "output_type": "execute_result"
    }
   ],
   "source": [
    "# Evaluate the default random forest Model by calculating R^2\n",
    "score_default = rf.score(Xtest, ytest)\n",
    "score_default"
   ]
  },
  {
   "cell_type": "code",
   "execution_count": 16,
   "id": "9ee6dbe8-ca33-47b6-9358-52a4e666a555",
   "metadata": {},
   "outputs": [
    {
     "data": {
      "text/plain": [
       "3.8930675410078317"
      ]
     },
     "execution_count": 16,
     "metadata": {},
     "output_type": "execute_result"
    }
   ],
   "source": [
    "rf_mean_squared_error = mean_squared_error(ytest, y_rf)\n",
    "rf_mean_squared_error"
   ]
  },
  {
   "cell_type": "code",
   "execution_count": 17,
   "id": "4eb10581-3ead-4b02-888e-6342efd4ddf1",
   "metadata": {},
   "outputs": [
    {
     "data": {
      "text/plain": [
       "array([0.10140387, 0.23042164, 0.1125228 , 0.08628399, 0.06646722,\n",
       "       0.09191873, 0.04261737, 0.19652333, 0.07184105])"
      ]
     },
     "execution_count": 17,
     "metadata": {},
     "output_type": "execute_result"
    }
   ],
   "source": [
    "rf.feature_importances_"
   ]
  },
  {
   "cell_type": "markdown",
   "id": "d387953f-1966-42d2-91b5-5181328f3e99",
   "metadata": {},
   "source": [
    "## 2.  Hyperparameter optimization of the default model with scikit-learn\n",
    "\n",
    "After training model with two algorithms, the results show that random forest algorithm works better for this dataset. So, we just optimize hyperparameters for this model using randomized research technique."
   ]
  },
  {
   "cell_type": "code",
   "execution_count": 18,
   "id": "2f7d93eb-3b7e-46bd-b97d-6d267ac73be5",
   "metadata": {},
   "outputs": [],
   "source": [
    "## Define dependent variables(Y) and independent variables(X) for modelling in scikit-learn\n",
    "from sklearn.model_selection import train_test_split\n",
    "Y1 = dataset_norm['nb_observers']\n",
    "X1 = dataset_norm[Predictors]\n",
    "# Split the dataset for training (70%) and testing (30%)\n",
    "X_train, X_test, y_train, y_test = train_test_split(X1, Y1, test_size=0.3, random_state=42)"
   ]
  },
  {
   "cell_type": "code",
   "execution_count": 19,
   "id": "d177c9f7-4309-4931-8ef9-ddd5078de70a",
   "metadata": {
    "tags": []
   },
   "outputs": [],
   "source": [
    "from scipy.stats import randint as sp_randint"
   ]
  },
  {
   "cell_type": "code",
   "execution_count": 20,
   "id": "31198902-8ea4-4207-8113-a639564c7550",
   "metadata": {},
   "outputs": [],
   "source": [
    "# specify parameters and distributions to sample from\n",
    "# Setting the random grid for the cross validation\n",
    "\n",
    "# Number of trees in random forest\n",
    "n_estimators = [int(x) for x in np.linspace(start = 100, stop = 1500, num = 100)]\n",
    "\n",
    "# Number of features to consider at every split\n",
    "max_features = ['auto', 'sqrt', 'log2']\n",
    "\n",
    "# Maximum number of levels in tree\n",
    "max_depth = [int(x) for x in np.linspace(10, 110, num = 11)]\n",
    "max_depth.append(None)\n",
    "\n",
    "# Minimum number of samples required to split a node\n",
    "min_samples_split = sp_randint(2, 11)\n",
    "\n",
    "# Minimum number of samples required at each leaf node\n",
    "min_samples_leaf = [1, 2, 4]\n",
    "\n",
    "# Method of selecting samples for training each tree\n",
    "bootstrap = [True, False]\n",
    "\n",
    "# Create the random search parameters\n",
    "param_dist = {'n_estimators': n_estimators,\n",
    "               'max_features': max_features,\n",
    "               'max_depth': max_depth,\n",
    "               'min_samples_split': min_samples_split,\n",
    "               'min_samples_leaf': min_samples_leaf}\n"
   ]
  },
  {
   "cell_type": "code",
   "execution_count": 21,
   "id": "27f9dc2c-b38c-45bd-9934-5a47d689b85a",
   "metadata": {},
   "outputs": [
    {
     "name": "stderr",
     "output_type": "stream",
     "text": [
      "/usr/local/lib/python3.8/dist-packages/sklearn/ensemble/_forest.py:416: FutureWarning: `max_features='auto'` has been deprecated in 1.1 and will be removed in 1.3. To keep the past behaviour, explicitly set `max_features=1.0` or remove this parameter as it is also the default value for RandomForestRegressors and ExtraTreesRegressors.\n",
      "  warn(\n",
      "/usr/local/lib/python3.8/dist-packages/sklearn/ensemble/_forest.py:416: FutureWarning: `max_features='auto'` has been deprecated in 1.1 and will be removed in 1.3. To keep the past behaviour, explicitly set `max_features=1.0` or remove this parameter as it is also the default value for RandomForestRegressors and ExtraTreesRegressors.\n",
      "  warn(\n",
      "/usr/local/lib/python3.8/dist-packages/sklearn/ensemble/_forest.py:416: FutureWarning: `max_features='auto'` has been deprecated in 1.1 and will be removed in 1.3. To keep the past behaviour, explicitly set `max_features=1.0` or remove this parameter as it is also the default value for RandomForestRegressors and ExtraTreesRegressors.\n",
      "  warn(\n",
      "/usr/local/lib/python3.8/dist-packages/sklearn/ensemble/_forest.py:416: FutureWarning: `max_features='auto'` has been deprecated in 1.1 and will be removed in 1.3. To keep the past behaviour, explicitly set `max_features=1.0` or remove this parameter as it is also the default value for RandomForestRegressors and ExtraTreesRegressors.\n",
      "  warn(\n",
      "/usr/local/lib/python3.8/dist-packages/sklearn/ensemble/_forest.py:416: FutureWarning: `max_features='auto'` has been deprecated in 1.1 and will be removed in 1.3. To keep the past behaviour, explicitly set `max_features=1.0` or remove this parameter as it is also the default value for RandomForestRegressors and ExtraTreesRegressors.\n",
      "  warn(\n",
      "/usr/local/lib/python3.8/dist-packages/sklearn/ensemble/_forest.py:416: FutureWarning: `max_features='auto'` has been deprecated in 1.1 and will be removed in 1.3. To keep the past behaviour, explicitly set `max_features=1.0` or remove this parameter as it is also the default value for RandomForestRegressors and ExtraTreesRegressors.\n",
      "  warn(\n",
      "/usr/local/lib/python3.8/dist-packages/sklearn/ensemble/_forest.py:416: FutureWarning: `max_features='auto'` has been deprecated in 1.1 and will be removed in 1.3. To keep the past behaviour, explicitly set `max_features=1.0` or remove this parameter as it is also the default value for RandomForestRegressors and ExtraTreesRegressors.\n",
      "  warn(\n",
      "/usr/local/lib/python3.8/dist-packages/sklearn/ensemble/_forest.py:416: FutureWarning: `max_features='auto'` has been deprecated in 1.1 and will be removed in 1.3. To keep the past behaviour, explicitly set `max_features=1.0` or remove this parameter as it is also the default value for RandomForestRegressors and ExtraTreesRegressors.\n",
      "  warn(\n",
      "/usr/local/lib/python3.8/dist-packages/sklearn/ensemble/_forest.py:416: FutureWarning: `max_features='auto'` has been deprecated in 1.1 and will be removed in 1.3. To keep the past behaviour, explicitly set `max_features=1.0` or remove this parameter as it is also the default value for RandomForestRegressors and ExtraTreesRegressors.\n",
      "  warn(\n",
      "/usr/local/lib/python3.8/dist-packages/sklearn/ensemble/_forest.py:416: FutureWarning: `max_features='auto'` has been deprecated in 1.1 and will be removed in 1.3. To keep the past behaviour, explicitly set `max_features=1.0` or remove this parameter as it is also the default value for RandomForestRegressors and ExtraTreesRegressors.\n",
      "  warn(\n",
      "/usr/local/lib/python3.8/dist-packages/sklearn/ensemble/_forest.py:416: FutureWarning: `max_features='auto'` has been deprecated in 1.1 and will be removed in 1.3. To keep the past behaviour, explicitly set `max_features=1.0` or remove this parameter as it is also the default value for RandomForestRegressors and ExtraTreesRegressors.\n",
      "  warn(\n",
      "/usr/local/lib/python3.8/dist-packages/sklearn/ensemble/_forest.py:416: FutureWarning: `max_features='auto'` has been deprecated in 1.1 and will be removed in 1.3. To keep the past behaviour, explicitly set `max_features=1.0` or remove this parameter as it is also the default value for RandomForestRegressors and ExtraTreesRegressors.\n",
      "  warn(\n",
      "/usr/local/lib/python3.8/dist-packages/sklearn/ensemble/_forest.py:416: FutureWarning: `max_features='auto'` has been deprecated in 1.1 and will be removed in 1.3. To keep the past behaviour, explicitly set `max_features=1.0` or remove this parameter as it is also the default value for RandomForestRegressors and ExtraTreesRegressors.\n",
      "  warn(\n",
      "/usr/local/lib/python3.8/dist-packages/sklearn/ensemble/_forest.py:416: FutureWarning: `max_features='auto'` has been deprecated in 1.1 and will be removed in 1.3. To keep the past behaviour, explicitly set `max_features=1.0` or remove this parameter as it is also the default value for RandomForestRegressors and ExtraTreesRegressors.\n",
      "  warn(\n",
      "/usr/local/lib/python3.8/dist-packages/sklearn/ensemble/_forest.py:416: FutureWarning: `max_features='auto'` has been deprecated in 1.1 and will be removed in 1.3. To keep the past behaviour, explicitly set `max_features=1.0` or remove this parameter as it is also the default value for RandomForestRegressors and ExtraTreesRegressors.\n",
      "  warn(\n",
      "/usr/local/lib/python3.8/dist-packages/sklearn/ensemble/_forest.py:416: FutureWarning: `max_features='auto'` has been deprecated in 1.1 and will be removed in 1.3. To keep the past behaviour, explicitly set `max_features=1.0` or remove this parameter as it is also the default value for RandomForestRegressors and ExtraTreesRegressors.\n",
      "  warn(\n",
      "/usr/local/lib/python3.8/dist-packages/sklearn/ensemble/_forest.py:416: FutureWarning: `max_features='auto'` has been deprecated in 1.1 and will be removed in 1.3. To keep the past behaviour, explicitly set `max_features=1.0` or remove this parameter as it is also the default value for RandomForestRegressors and ExtraTreesRegressors.\n",
      "  warn(\n",
      "/usr/local/lib/python3.8/dist-packages/sklearn/ensemble/_forest.py:416: FutureWarning: `max_features='auto'` has been deprecated in 1.1 and will be removed in 1.3. To keep the past behaviour, explicitly set `max_features=1.0` or remove this parameter as it is also the default value for RandomForestRegressors and ExtraTreesRegressors.\n",
      "  warn(\n",
      "/usr/local/lib/python3.8/dist-packages/sklearn/ensemble/_forest.py:416: FutureWarning: `max_features='auto'` has been deprecated in 1.1 and will be removed in 1.3. To keep the past behaviour, explicitly set `max_features=1.0` or remove this parameter as it is also the default value for RandomForestRegressors and ExtraTreesRegressors.\n",
      "  warn(\n",
      "/usr/local/lib/python3.8/dist-packages/sklearn/ensemble/_forest.py:416: FutureWarning: `max_features='auto'` has been deprecated in 1.1 and will be removed in 1.3. To keep the past behaviour, explicitly set `max_features=1.0` or remove this parameter as it is also the default value for RandomForestRegressors and ExtraTreesRegressors.\n",
      "  warn(\n",
      "/usr/local/lib/python3.8/dist-packages/sklearn/ensemble/_forest.py:416: FutureWarning: `max_features='auto'` has been deprecated in 1.1 and will be removed in 1.3. To keep the past behaviour, explicitly set `max_features=1.0` or remove this parameter as it is also the default value for RandomForestRegressors and ExtraTreesRegressors.\n",
      "  warn(\n",
      "/usr/local/lib/python3.8/dist-packages/sklearn/ensemble/_forest.py:416: FutureWarning: `max_features='auto'` has been deprecated in 1.1 and will be removed in 1.3. To keep the past behaviour, explicitly set `max_features=1.0` or remove this parameter as it is also the default value for RandomForestRegressors and ExtraTreesRegressors.\n",
      "  warn(\n",
      "/usr/local/lib/python3.8/dist-packages/sklearn/ensemble/_forest.py:416: FutureWarning: `max_features='auto'` has been deprecated in 1.1 and will be removed in 1.3. To keep the past behaviour, explicitly set `max_features=1.0` or remove this parameter as it is also the default value for RandomForestRegressors and ExtraTreesRegressors.\n",
      "  warn(\n",
      "/usr/local/lib/python3.8/dist-packages/sklearn/ensemble/_forest.py:416: FutureWarning: `max_features='auto'` has been deprecated in 1.1 and will be removed in 1.3. To keep the past behaviour, explicitly set `max_features=1.0` or remove this parameter as it is also the default value for RandomForestRegressors and ExtraTreesRegressors.\n",
      "  warn(\n",
      "/usr/local/lib/python3.8/dist-packages/sklearn/ensemble/_forest.py:416: FutureWarning: `max_features='auto'` has been deprecated in 1.1 and will be removed in 1.3. To keep the past behaviour, explicitly set `max_features=1.0` or remove this parameter as it is also the default value for RandomForestRegressors and ExtraTreesRegressors.\n",
      "  warn(\n",
      "/usr/local/lib/python3.8/dist-packages/sklearn/ensemble/_forest.py:416: FutureWarning: `max_features='auto'` has been deprecated in 1.1 and will be removed in 1.3. To keep the past behaviour, explicitly set `max_features=1.0` or remove this parameter as it is also the default value for RandomForestRegressors and ExtraTreesRegressors.\n",
      "  warn(\n",
      "/usr/local/lib/python3.8/dist-packages/sklearn/ensemble/_forest.py:416: FutureWarning: `max_features='auto'` has been deprecated in 1.1 and will be removed in 1.3. To keep the past behaviour, explicitly set `max_features=1.0` or remove this parameter as it is also the default value for RandomForestRegressors and ExtraTreesRegressors.\n",
      "  warn(\n",
      "/usr/local/lib/python3.8/dist-packages/sklearn/ensemble/_forest.py:416: FutureWarning: `max_features='auto'` has been deprecated in 1.1 and will be removed in 1.3. To keep the past behaviour, explicitly set `max_features=1.0` or remove this parameter as it is also the default value for RandomForestRegressors and ExtraTreesRegressors.\n",
      "  warn(\n",
      "/usr/local/lib/python3.8/dist-packages/sklearn/ensemble/_forest.py:416: FutureWarning: `max_features='auto'` has been deprecated in 1.1 and will be removed in 1.3. To keep the past behaviour, explicitly set `max_features=1.0` or remove this parameter as it is also the default value for RandomForestRegressors and ExtraTreesRegressors.\n",
      "  warn(\n",
      "/usr/local/lib/python3.8/dist-packages/sklearn/ensemble/_forest.py:416: FutureWarning: `max_features='auto'` has been deprecated in 1.1 and will be removed in 1.3. To keep the past behaviour, explicitly set `max_features=1.0` or remove this parameter as it is also the default value for RandomForestRegressors and ExtraTreesRegressors.\n",
      "  warn(\n",
      "/usr/local/lib/python3.8/dist-packages/sklearn/ensemble/_forest.py:416: FutureWarning: `max_features='auto'` has been deprecated in 1.1 and will be removed in 1.3. To keep the past behaviour, explicitly set `max_features=1.0` or remove this parameter as it is also the default value for RandomForestRegressors and ExtraTreesRegressors.\n",
      "  warn(\n",
      "/usr/local/lib/python3.8/dist-packages/sklearn/ensemble/_forest.py:416: FutureWarning: `max_features='auto'` has been deprecated in 1.1 and will be removed in 1.3. To keep the past behaviour, explicitly set `max_features=1.0` or remove this parameter as it is also the default value for RandomForestRegressors and ExtraTreesRegressors.\n",
      "  warn(\n",
      "/usr/local/lib/python3.8/dist-packages/sklearn/ensemble/_forest.py:416: FutureWarning: `max_features='auto'` has been deprecated in 1.1 and will be removed in 1.3. To keep the past behaviour, explicitly set `max_features=1.0` or remove this parameter as it is also the default value for RandomForestRegressors and ExtraTreesRegressors.\n",
      "  warn(\n",
      "/usr/local/lib/python3.8/dist-packages/sklearn/ensemble/_forest.py:416: FutureWarning: `max_features='auto'` has been deprecated in 1.1 and will be removed in 1.3. To keep the past behaviour, explicitly set `max_features=1.0` or remove this parameter as it is also the default value for RandomForestRegressors and ExtraTreesRegressors.\n",
      "  warn(\n",
      "/usr/local/lib/python3.8/dist-packages/sklearn/ensemble/_forest.py:416: FutureWarning: `max_features='auto'` has been deprecated in 1.1 and will be removed in 1.3. To keep the past behaviour, explicitly set `max_features=1.0` or remove this parameter as it is also the default value for RandomForestRegressors and ExtraTreesRegressors.\n",
      "  warn(\n",
      "/usr/local/lib/python3.8/dist-packages/sklearn/ensemble/_forest.py:416: FutureWarning: `max_features='auto'` has been deprecated in 1.1 and will be removed in 1.3. To keep the past behaviour, explicitly set `max_features=1.0` or remove this parameter as it is also the default value for RandomForestRegressors and ExtraTreesRegressors.\n",
      "  warn(\n",
      "/usr/local/lib/python3.8/dist-packages/sklearn/ensemble/_forest.py:416: FutureWarning: `max_features='auto'` has been deprecated in 1.1 and will be removed in 1.3. To keep the past behaviour, explicitly set `max_features=1.0` or remove this parameter as it is also the default value for RandomForestRegressors and ExtraTreesRegressors.\n",
      "  warn(\n",
      "/usr/local/lib/python3.8/dist-packages/sklearn/ensemble/_forest.py:416: FutureWarning: `max_features='auto'` has been deprecated in 1.1 and will be removed in 1.3. To keep the past behaviour, explicitly set `max_features=1.0` or remove this parameter as it is also the default value for RandomForestRegressors and ExtraTreesRegressors.\n",
      "  warn(\n",
      "/usr/local/lib/python3.8/dist-packages/sklearn/ensemble/_forest.py:416: FutureWarning: `max_features='auto'` has been deprecated in 1.1 and will be removed in 1.3. To keep the past behaviour, explicitly set `max_features=1.0` or remove this parameter as it is also the default value for RandomForestRegressors and ExtraTreesRegressors.\n",
      "  warn(\n",
      "/usr/local/lib/python3.8/dist-packages/sklearn/ensemble/_forest.py:416: FutureWarning: `max_features='auto'` has been deprecated in 1.1 and will be removed in 1.3. To keep the past behaviour, explicitly set `max_features=1.0` or remove this parameter as it is also the default value for RandomForestRegressors and ExtraTreesRegressors.\n",
      "  warn(\n",
      "/usr/local/lib/python3.8/dist-packages/sklearn/ensemble/_forest.py:416: FutureWarning: `max_features='auto'` has been deprecated in 1.1 and will be removed in 1.3. To keep the past behaviour, explicitly set `max_features=1.0` or remove this parameter as it is also the default value for RandomForestRegressors and ExtraTreesRegressors.\n",
      "  warn(\n",
      "/usr/local/lib/python3.8/dist-packages/sklearn/ensemble/_forest.py:416: FutureWarning: `max_features='auto'` has been deprecated in 1.1 and will be removed in 1.3. To keep the past behaviour, explicitly set `max_features=1.0` or remove this parameter as it is also the default value for RandomForestRegressors and ExtraTreesRegressors.\n",
      "  warn(\n"
     ]
    },
    {
     "name": "stdout",
     "output_type": "stream",
     "text": [
      "RandomizedSearchCV took 427.65 seconds for 20 candidates parameter settings.\n"
     ]
    }
   ],
   "source": [
    "from sklearn.model_selection import RandomizedSearchCV\n",
    "from time import time\n",
    "# Creating the base model for tunning\n",
    "rf = RandomForestRegressor()\n",
    "\n",
    "# run randomized search using 5 fold cross validation and 20 combinations\n",
    "n_iter_search = 20\n",
    "random_search = RandomizedSearchCV(rf, param_distributions=param_dist,\n",
    "                                   n_iter=n_iter_search, cv=5)\n",
    "\n",
    "start = time()\n",
    "\n",
    "with parallel_backend('dask'):\n",
    "    random_search.fit(X_train, y_train)\n",
    "    \n",
    "print(\"RandomizedSearchCV took %.2f seconds for %d candidates\"\n",
    "      \" parameter settings.\" % ((time() - start), n_iter_search))\n",
    "\n",
    "#random_search.best_params_"
   ]
  },
  {
   "cell_type": "code",
   "execution_count": 22,
   "id": "5f6eb150-c2e5-46a6-9ad2-ef5a0468440c",
   "metadata": {},
   "outputs": [
    {
     "name": "stdout",
     "output_type": "stream",
     "text": [
      "The best parameters: \n"
     ]
    },
    {
     "data": {
      "text/plain": [
       "{'max_depth': 70,\n",
       " 'max_features': 'auto',\n",
       " 'min_samples_leaf': 2,\n",
       " 'min_samples_split': 2,\n",
       " 'n_estimators': 396}"
      ]
     },
     "execution_count": 22,
     "metadata": {},
     "output_type": "execute_result"
    }
   ],
   "source": [
    "# The best random parameters\n",
    "print('The best parameters: ')\n",
    "random_search.best_params_"
   ]
  },
  {
   "cell_type": "code",
   "execution_count": 23,
   "id": "7b7c3517-3c38-4acc-bd8c-84aa44f5964b",
   "metadata": {},
   "outputs": [
    {
     "name": "stderr",
     "output_type": "stream",
     "text": [
      "/usr/local/lib/python3.8/dist-packages/sklearn/ensemble/_forest.py:416: FutureWarning: `max_features='auto'` has been deprecated in 1.1 and will be removed in 1.3. To keep the past behaviour, explicitly set `max_features=1.0` or remove this parameter as it is also the default value for RandomForestRegressors and ExtraTreesRegressors.\n",
      "  warn(\n"
     ]
    }
   ],
   "source": [
    "# Train the model with optimized parameters\n",
    "best_model = random_search.best_estimator_\n",
    "\n",
    "with parallel_backend('dask'):\n",
    "    best_model.fit(Xtrain, ytrain)\n",
    "    ypred_best = best_model.predict(Xtest)"
   ]
  },
  {
   "cell_type": "code",
   "execution_count": 24,
   "id": "b3b124a4-907b-4e4f-879e-8852ca7074cc",
   "metadata": {},
   "outputs": [
    {
     "data": {
      "text/plain": [
       "0.38126275413215416"
      ]
     },
     "execution_count": 24,
     "metadata": {},
     "output_type": "execute_result"
    }
   ],
   "source": [
    "# Evaluate the optimized random forest Model by calculating R^2\n",
    "score_optimized = best_model.score(Xtest, ytest)\n",
    "score_optimized"
   ]
  },
  {
   "cell_type": "code",
   "execution_count": 25,
   "id": "e7113558-9fa1-44a4-b272-18d87ccfd6b9",
   "metadata": {},
   "outputs": [
    {
     "name": "stdout",
     "output_type": "stream",
     "text": [
      "improvement:  2.5 %\n"
     ]
    }
   ],
   "source": [
    "# Calculate final model improvement\n",
    "improvement = 100 * (score_optimized - score_default) / score_default\n",
    "print('improvement: ', round(improvement, 2), '%' )"
   ]
  },
  {
   "cell_type": "code",
   "execution_count": 26,
   "id": "c2771845-fa2c-44ab-a1c3-37837b515547",
   "metadata": {},
   "outputs": [
    {
     "data": {
      "text/plain": [
       "3.8353334001906347"
      ]
     },
     "execution_count": 26,
     "metadata": {},
     "output_type": "execute_result"
    }
   ],
   "source": [
    "opt_rf_mean_squared_error = mean_squared_error(ytest, ypred_best)\n",
    "opt_rf_mean_squared_error"
   ]
  },
  {
   "cell_type": "markdown",
   "id": "126b8fdc-f89e-4602-8613-6bd5d697f362",
   "metadata": {},
   "source": [
    "## 3. Apply optimized model on developing regions dataset for prediction"
   ]
  },
  {
   "cell_type": "code",
   "execution_count": 27,
   "id": "02c3fbe5-0b0f-475c-ab76-e64c2c249873",
   "metadata": {},
   "outputs": [],
   "source": [
    "# Read developing regions dataset from crib using pandas \n",
    "df_developing = pd.read_csv('0_data/developing_2017stall.csv')"
   ]
  },
  {
   "cell_type": "code",
   "execution_count": 28,
   "id": "7456689c-a6b7-437a-a720-ea27e97abe59",
   "metadata": {},
   "outputs": [],
   "source": [
    "# Normaliz developing dataset\n",
    "dataset_norm_developing = pd.DataFrame()\n",
    "for (colname, coldata) in df_developing.iteritems():\n",
    "    if colname == 'block' \\\n",
    "    or colname == 'obsdate' \\\n",
    "    or colname == 'nb_observers' \\\n",
    "    or colname == 'nb_observations' \\\n",
    "    or colname == 'nb_species' \\\n",
    "    or colname == 'doy' \\\n",
    "    or colname == 'dow'\\\n",
    "    or colname == 'holiday'\\\n",
    "    or colname == 'longit'\\\n",
    "    or colname == 'latit'\\\n",
    "    or colname == 'geom'\\\n",
    "    or colname == 'urlnr':\n",
    "        dataset_norm_developing[colname] = df_developing[colname]\n",
    "    else:\n",
    "         dataset_norm_developing[colname] = (df_developing[colname] - df_developing[colname].mean()) / (df_developing[colname].max() - df_developing[colname].min())"
   ]
  },
  {
   "cell_type": "code",
   "execution_count": 29,
   "id": "809d1fe9-cc84-4994-849f-7a727892c00c",
   "metadata": {},
   "outputs": [],
   "source": [
    "# Transform developing dataset to Dask dataframe to be used well in modelling large data with DASK library\n",
    "import dask.dataframe as dd\n",
    "dataset_developing = dd.from_pandas(dataset_norm_developing, npartitions=10) "
   ]
  },
  {
   "cell_type": "code",
   "execution_count": 30,
   "id": "9be8ac61-c4fd-4496-b63b-8b760ca4af83",
   "metadata": {},
   "outputs": [],
   "source": [
    "# Define dependent variables(Y) and independent variables(X) for modelling developing dataset in DASK\n",
    "Y_developing = dataset_developing['nb_observers']\n",
    "X_developing = dataset_developing[Predictors]"
   ]
  },
  {
   "cell_type": "code",
   "execution_count": 31,
   "id": "79327992-2e7f-4160-8a4f-8c7678f37686",
   "metadata": {},
   "outputs": [],
   "source": [
    "# Scale predictors of the developing datasetthe same fitted scaler of the trained model on developed dataset\n",
    "X_developing = scaler.transform(X_developing)"
   ]
  },
  {
   "cell_type": "code",
   "execution_count": 32,
   "id": "abd73df9-c26b-41d1-8d6f-b5f4cb327398",
   "metadata": {},
   "outputs": [],
   "source": [
    "# Predict observer intensity in developing regions using optimized model\n",
    "with parallel_backend('dask'):\n",
    "    ypred_developing = best_model.predict(X_developing)"
   ]
  },
  {
   "cell_type": "code",
   "execution_count": 33,
   "id": "1cb00a19-d9af-4589-9e0f-f5a702d59065",
   "metadata": {},
   "outputs": [
    {
     "data": {
      "text/plain": [
       "-2.0011871621535584"
      ]
     },
     "execution_count": 33,
     "metadata": {},
     "output_type": "execute_result"
    }
   ],
   "source": [
    "# Evaluate the prediction of developing regions by calculating R^2\n",
    "best_model.score(X_developing, Y_developing)"
   ]
  },
  {
   "cell_type": "code",
   "execution_count": 34,
   "id": "cd2e44cb-75ce-4bfb-aeeb-2953df5aa279",
   "metadata": {},
   "outputs": [
    {
     "data": {
      "image/png": "[encoded data removed]",
      "text/plain": [
       "<Figure size 640x480 with 1 Axes>"
      ]
     },
     "metadata": {},
     "output_type": "display_data"
    }
   ],
   "source": [
    "# Visualize the predicted values from model and actual values from developing dataset\n",
    "plt.scatter(ypred_developing, Y_developing,c='b')\n",
    "plt.scatter(Y_developing, Y_developing,c='k')\n",
    "#plt.title('Scatter plot')\n",
    "plt.xlabel('Predicted Values')\n",
    "plt.ylabel('Actual Values')\n",
    "plt.show()"
   ]
  },
  {
   "cell_type": "code",
   "execution_count": 35,
   "id": "a6e27e34-3061-4937-9efb-faaf061c1936",
   "metadata": {},
   "outputs": [
    {
     "data": {
      "text/plain": [
       "array([0.08917285, 0.19817667, 0.12163303, 0.09677191, 0.07444176,\n",
       "       0.10486225, 0.04569461, 0.19843233, 0.07081459])"
      ]
     },
     "execution_count": 35,
     "metadata": {},
     "output_type": "execute_result"
    }
   ],
   "source": [
    "best_model.feature_importances_"
   ]
  },
  {
   "cell_type": "markdown",
   "id": "14a341be-d3be-492b-bdb7-e229ff7fd51c",
   "metadata": {},
   "source": [
    "Save predict results."
   ]
  },
  {
   "cell_type": "code",
   "execution_count": 36,
   "id": "cbc036e1-db9a-446a-bd24-b2902f389d76",
   "metadata": {},
   "outputs": [],
   "source": [
    "import csv\n",
    "dataout_path = '0_data/'\n",
    "\n",
    "developingresult_file = dataout_path + 'developing_2017pred.csv' \n",
    "csv_header = [\" \", \"pred_nb_observers\"]\n",
    "with open (developingresult_file, \"w\", newline = '') as developingresult_data:\n",
    "    developingresult_csv = csv.writer(developingresult_data)\n",
    "    developingresult_csv.writerow(csv_header)\n",
    "    for i in range(len(ypred_developing)):\n",
    "        developingresult_writerow = [i, ypred_developing[i]]\n",
    "        developingresult_csv.writerow(developingresult_writerow)"
   ]
  },
  {
   "cell_type": "code",
   "execution_count": null,
   "id": "b3f34067-076f-4756-ab38-eb27645db9e3",
   "metadata": {},
   "outputs": [],
   "source": [
    "_"
   ]
  }
 ],
 "metadata": {
  "kernelspec": {
   "display_name": "Python",
   "language": "python",
   "name": "python3"
  },
  "language_info": {
   "codemirror_mode": {
    "name": "ipython",
    "version": 3
   },
   "file_extension": ".py",
   "mimetype": "text/x-python",
   "name": "python",
   "nbconvert_exporter": "python",
   "pygments_lexer": "ipython3",
   "version": "3.8.10"
  }
 },
 "nbformat": 4,
 "nbformat_minor": 5
}
